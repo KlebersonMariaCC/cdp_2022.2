{
  "nbformat": 4,
  "nbformat_minor": 0,
  "metadata": {
    "colab": {
      "provenance": [],
      "include_colab_link": true
    },
    "kernelspec": {
      "name": "python3",
      "display_name": "Python 3"
    }
  },
  "cells": [
    {
      "cell_type": "markdown",
      "metadata": {
        "id": "view-in-github",
        "colab_type": "text"
      },
      "source": [
        "<a href=\"https://colab.research.google.com/github/KlebersonMariaCC/cdp_2022.2/blob/main/CRA_Regression_Lab01.ipynb\" target=\"_parent\"><img src=\"https://colab.research.google.com/assets/colab-badge.svg\" alt=\"Open In Colab\"/></a>"
      ]
    },
    {
      "cell_type": "markdown",
      "metadata": {
        "id": "HDPYlFYYAqdo"
      },
      "source": [
        "# Dependências"
      ]
    },
    {
      "cell_type": "code",
      "metadata": {
        "id": "IwqizOUQ0-ec"
      },
      "source": [
        "import numpy as np\n",
        "import pandas as pd\n",
        "import matplotlib.pyplot as plt\n",
        "import seaborn as sns\n",
        "from sklearn.linear_model import LinearRegression\n",
        "from sklearn.metrics import mean_squared_error, r2_score\n",
        "from sklearn.model_selection import train_test_split"
      ],
      "execution_count": null,
      "outputs": []
    },
    {
      "cell_type": "markdown",
      "metadata": {
        "id": "eO3KwA3XAs0K"
      },
      "source": [
        "# Carregando os dados"
      ]
    },
    {
      "cell_type": "code",
      "metadata": {
        "id": "mdYE0j7P1UR1",
        "colab": {
          "base_uri": "https://localhost:8080/",
          "height": 206
        },
        "outputId": "bab7848c-6168-43db-ab18-699681a6ea64"
      },
      "source": [
        "url = 'https://drive.google.com/file/d/1AWZQSho1ArFBxwLKu0-hSBOSNdc_jKEt/view?usp=sharing'\n",
        "path = 'https://drive.google.com/uc?export=download&id='+url.split('/')[-2]\n",
        "df = pd.read_csv(path)\n",
        "df.head()"
      ],
      "execution_count": null,
      "outputs": [
        {
          "output_type": "execute_result",
          "data": {
            "text/plain": [
              "                          matricula  Vetorial   LPT   P1   IC  LP1  Cálculo2  \\\n",
              "0  0cc3d63edf0b986cb87e345972857e15       8.6  10.0  9.0  9.1  8.6       8.4   \n",
              "1  0d78246db769dc958ce19fc414050b2a       5.6   7.0  7.7  7.0  8.1       6.2   \n",
              "2  0f5bb983df06b90337dc2c6301fef3f6      10.0   9.8  7.9  9.6  8.3       8.7   \n",
              "3  1307a4421a67a497cea198e8ccfb97ee       6.1   8.3  6.8  8.2  7.1       8.0   \n",
              "4  1432d50cf8519694ab992c414d90a130       8.8   9.3  5.0  8.5  5.1       5.0   \n",
              "\n",
              "   Discreta   P2  Grafos  Fís.Clássica  LP2       cra  Cálculo1  \n",
              "0       8.3  8.8     8.2           7.9  9.4  8.477647       8.7  \n",
              "1       7.3  8.2     5.4           7.7  8.9  6.851724       7.0  \n",
              "2       8.8  9.5     9.2           8.6  9.7  9.090588       8.6  \n",
              "3       6.3  8.9     7.0           8.5  9.0  7.283516       7.8  \n",
              "4       5.8  7.1     5.4           8.7  8.2  7.205747       5.2  "
            ],
            "text/html": [
              "\n",
              "  <div id=\"df-41c15efc-182b-498d-af08-b97058215e69\">\n",
              "    <div class=\"colab-df-container\">\n",
              "      <div>\n",
              "<style scoped>\n",
              "    .dataframe tbody tr th:only-of-type {\n",
              "        vertical-align: middle;\n",
              "    }\n",
              "\n",
              "    .dataframe tbody tr th {\n",
              "        vertical-align: top;\n",
              "    }\n",
              "\n",
              "    .dataframe thead th {\n",
              "        text-align: right;\n",
              "    }\n",
              "</style>\n",
              "<table border=\"1\" class=\"dataframe\">\n",
              "  <thead>\n",
              "    <tr style=\"text-align: right;\">\n",
              "      <th></th>\n",
              "      <th>matricula</th>\n",
              "      <th>Vetorial</th>\n",
              "      <th>LPT</th>\n",
              "      <th>P1</th>\n",
              "      <th>IC</th>\n",
              "      <th>LP1</th>\n",
              "      <th>Cálculo2</th>\n",
              "      <th>Discreta</th>\n",
              "      <th>P2</th>\n",
              "      <th>Grafos</th>\n",
              "      <th>Fís.Clássica</th>\n",
              "      <th>LP2</th>\n",
              "      <th>cra</th>\n",
              "      <th>Cálculo1</th>\n",
              "    </tr>\n",
              "  </thead>\n",
              "  <tbody>\n",
              "    <tr>\n",
              "      <th>0</th>\n",
              "      <td>0cc3d63edf0b986cb87e345972857e15</td>\n",
              "      <td>8.6</td>\n",
              "      <td>10.0</td>\n",
              "      <td>9.0</td>\n",
              "      <td>9.1</td>\n",
              "      <td>8.6</td>\n",
              "      <td>8.4</td>\n",
              "      <td>8.3</td>\n",
              "      <td>8.8</td>\n",
              "      <td>8.2</td>\n",
              "      <td>7.9</td>\n",
              "      <td>9.4</td>\n",
              "      <td>8.477647</td>\n",
              "      <td>8.7</td>\n",
              "    </tr>\n",
              "    <tr>\n",
              "      <th>1</th>\n",
              "      <td>0d78246db769dc958ce19fc414050b2a</td>\n",
              "      <td>5.6</td>\n",
              "      <td>7.0</td>\n",
              "      <td>7.7</td>\n",
              "      <td>7.0</td>\n",
              "      <td>8.1</td>\n",
              "      <td>6.2</td>\n",
              "      <td>7.3</td>\n",
              "      <td>8.2</td>\n",
              "      <td>5.4</td>\n",
              "      <td>7.7</td>\n",
              "      <td>8.9</td>\n",
              "      <td>6.851724</td>\n",
              "      <td>7.0</td>\n",
              "    </tr>\n",
              "    <tr>\n",
              "      <th>2</th>\n",
              "      <td>0f5bb983df06b90337dc2c6301fef3f6</td>\n",
              "      <td>10.0</td>\n",
              "      <td>9.8</td>\n",
              "      <td>7.9</td>\n",
              "      <td>9.6</td>\n",
              "      <td>8.3</td>\n",
              "      <td>8.7</td>\n",
              "      <td>8.8</td>\n",
              "      <td>9.5</td>\n",
              "      <td>9.2</td>\n",
              "      <td>8.6</td>\n",
              "      <td>9.7</td>\n",
              "      <td>9.090588</td>\n",
              "      <td>8.6</td>\n",
              "    </tr>\n",
              "    <tr>\n",
              "      <th>3</th>\n",
              "      <td>1307a4421a67a497cea198e8ccfb97ee</td>\n",
              "      <td>6.1</td>\n",
              "      <td>8.3</td>\n",
              "      <td>6.8</td>\n",
              "      <td>8.2</td>\n",
              "      <td>7.1</td>\n",
              "      <td>8.0</td>\n",
              "      <td>6.3</td>\n",
              "      <td>8.9</td>\n",
              "      <td>7.0</td>\n",
              "      <td>8.5</td>\n",
              "      <td>9.0</td>\n",
              "      <td>7.283516</td>\n",
              "      <td>7.8</td>\n",
              "    </tr>\n",
              "    <tr>\n",
              "      <th>4</th>\n",
              "      <td>1432d50cf8519694ab992c414d90a130</td>\n",
              "      <td>8.8</td>\n",
              "      <td>9.3</td>\n",
              "      <td>5.0</td>\n",
              "      <td>8.5</td>\n",
              "      <td>5.1</td>\n",
              "      <td>5.0</td>\n",
              "      <td>5.8</td>\n",
              "      <td>7.1</td>\n",
              "      <td>5.4</td>\n",
              "      <td>8.7</td>\n",
              "      <td>8.2</td>\n",
              "      <td>7.205747</td>\n",
              "      <td>5.2</td>\n",
              "    </tr>\n",
              "  </tbody>\n",
              "</table>\n",
              "</div>\n",
              "      <button class=\"colab-df-convert\" onclick=\"convertToInteractive('df-41c15efc-182b-498d-af08-b97058215e69')\"\n",
              "              title=\"Convert this dataframe to an interactive table.\"\n",
              "              style=\"display:none;\">\n",
              "        \n",
              "  <svg xmlns=\"http://www.w3.org/2000/svg\" height=\"24px\"viewBox=\"0 0 24 24\"\n",
              "       width=\"24px\">\n",
              "    <path d=\"M0 0h24v24H0V0z\" fill=\"none\"/>\n",
              "    <path d=\"M18.56 5.44l.94 2.06.94-2.06 2.06-.94-2.06-.94-.94-2.06-.94 2.06-2.06.94zm-11 1L8.5 8.5l.94-2.06 2.06-.94-2.06-.94L8.5 2.5l-.94 2.06-2.06.94zm10 10l.94 2.06.94-2.06 2.06-.94-2.06-.94-.94-2.06-.94 2.06-2.06.94z\"/><path d=\"M17.41 7.96l-1.37-1.37c-.4-.4-.92-.59-1.43-.59-.52 0-1.04.2-1.43.59L10.3 9.45l-7.72 7.72c-.78.78-.78 2.05 0 2.83L4 21.41c.39.39.9.59 1.41.59.51 0 1.02-.2 1.41-.59l7.78-7.78 2.81-2.81c.8-.78.8-2.07 0-2.86zM5.41 20L4 18.59l7.72-7.72 1.47 1.35L5.41 20z\"/>\n",
              "  </svg>\n",
              "      </button>\n",
              "      \n",
              "  <style>\n",
              "    .colab-df-container {\n",
              "      display:flex;\n",
              "      flex-wrap:wrap;\n",
              "      gap: 12px;\n",
              "    }\n",
              "\n",
              "    .colab-df-convert {\n",
              "      background-color: #E8F0FE;\n",
              "      border: none;\n",
              "      border-radius: 50%;\n",
              "      cursor: pointer;\n",
              "      display: none;\n",
              "      fill: #1967D2;\n",
              "      height: 32px;\n",
              "      padding: 0 0 0 0;\n",
              "      width: 32px;\n",
              "    }\n",
              "\n",
              "    .colab-df-convert:hover {\n",
              "      background-color: #E2EBFA;\n",
              "      box-shadow: 0px 1px 2px rgba(60, 64, 67, 0.3), 0px 1px 3px 1px rgba(60, 64, 67, 0.15);\n",
              "      fill: #174EA6;\n",
              "    }\n",
              "\n",
              "    [theme=dark] .colab-df-convert {\n",
              "      background-color: #3B4455;\n",
              "      fill: #D2E3FC;\n",
              "    }\n",
              "\n",
              "    [theme=dark] .colab-df-convert:hover {\n",
              "      background-color: #434B5C;\n",
              "      box-shadow: 0px 1px 3px 1px rgba(0, 0, 0, 0.15);\n",
              "      filter: drop-shadow(0px 1px 2px rgba(0, 0, 0, 0.3));\n",
              "      fill: #FFFFFF;\n",
              "    }\n",
              "  </style>\n",
              "\n",
              "      <script>\n",
              "        const buttonEl =\n",
              "          document.querySelector('#df-41c15efc-182b-498d-af08-b97058215e69 button.colab-df-convert');\n",
              "        buttonEl.style.display =\n",
              "          google.colab.kernel.accessAllowed ? 'block' : 'none';\n",
              "\n",
              "        async function convertToInteractive(key) {\n",
              "          const element = document.querySelector('#df-41c15efc-182b-498d-af08-b97058215e69');\n",
              "          const dataTable =\n",
              "            await google.colab.kernel.invokeFunction('convertToInteractive',\n",
              "                                                     [key], {});\n",
              "          if (!dataTable) return;\n",
              "\n",
              "          const docLinkHtml = 'Like what you see? Visit the ' +\n",
              "            '<a target=\"_blank\" href=https://colab.research.google.com/notebooks/data_table.ipynb>data table notebook</a>'\n",
              "            + ' to learn more about interactive tables.';\n",
              "          element.innerHTML = '';\n",
              "          dataTable['output_type'] = 'display_data';\n",
              "          await google.colab.output.renderOutput(dataTable, element);\n",
              "          const docLink = document.createElement('div');\n",
              "          docLink.innerHTML = docLinkHtml;\n",
              "          element.appendChild(docLink);\n",
              "        }\n",
              "      </script>\n",
              "    </div>\n",
              "  </div>\n",
              "  "
            ]
          },
          "metadata": {},
          "execution_count": 227
        }
      ]
    },
    {
      "cell_type": "markdown",
      "metadata": {
        "id": "0P8xsg-XAwpf"
      },
      "source": [
        "# Sumário dos Dados"
      ]
    },
    {
      "cell_type": "code",
      "metadata": {
        "id": "tD-S-2OB1miJ",
        "colab": {
          "base_uri": "https://localhost:8080/",
          "height": 344
        },
        "outputId": "8afaa3a6-aafd-42bb-8418-457d2f528110"
      },
      "source": [
        "df.describe()"
      ],
      "execution_count": null,
      "outputs": [
        {
          "output_type": "execute_result",
          "data": {
            "text/plain": [
              "        Vetorial        LPT         P1         IC        LP1   Cálculo2  \\\n",
              "count  88.000000  88.000000  88.000000  88.000000  88.000000  88.000000   \n",
              "mean    7.280682   8.480114   7.407955   8.172727   7.597727   6.323864   \n",
              "std     1.404169   0.984522   1.346278   0.894007   1.371799   1.293662   \n",
              "min     5.000000   6.200000   5.000000   5.900000   5.000000   5.000000   \n",
              "25%     6.275000   7.700000   6.500000   7.500000   6.600000   5.100000   \n",
              "50%     7.100000   8.500000   7.750000   8.200000   7.800000   5.800000   \n",
              "75%     8.325000   9.300000   8.325000   8.800000   8.600000   7.500000   \n",
              "max    10.000000  10.000000  10.000000  10.000000  10.000000   9.300000   \n",
              "\n",
              "        Discreta         P2     Grafos  Fís.Clássica        LP2        cra  \\\n",
              "count  88.000000  88.000000  88.000000     88.000000  88.000000  88.000000   \n",
              "mean    6.764773   7.941364   7.196591      7.107955   8.631818   7.332535   \n",
              "std     1.228403   0.990478   1.277970      0.908987   0.969008   0.849758   \n",
              "min     5.000000   5.300000   5.000000      5.000000   5.000000   4.874468   \n",
              "25%     5.675000   7.300000   6.300000      7.000000   8.200000   6.841484   \n",
              "50%     6.750000   7.950000   7.200000      7.000000   8.900000   7.274746   \n",
              "75%     7.600000   8.800000   8.200000      7.500000   9.200000   7.883292   \n",
              "max     9.600000   9.600000  10.000000      9.100000   9.700000   9.090588   \n",
              "\n",
              "        Cálculo1  \n",
              "count  88.000000  \n",
              "mean    7.200000  \n",
              "std     1.228493  \n",
              "min     5.000000  \n",
              "25%     6.275000  \n",
              "50%     7.200000  \n",
              "75%     8.125000  \n",
              "max     9.800000  "
            ],
            "text/html": [
              "\n",
              "  <div id=\"df-9ea66f27-8ba2-4f6f-80d7-d3a1edc6bff3\">\n",
              "    <div class=\"colab-df-container\">\n",
              "      <div>\n",
              "<style scoped>\n",
              "    .dataframe tbody tr th:only-of-type {\n",
              "        vertical-align: middle;\n",
              "    }\n",
              "\n",
              "    .dataframe tbody tr th {\n",
              "        vertical-align: top;\n",
              "    }\n",
              "\n",
              "    .dataframe thead th {\n",
              "        text-align: right;\n",
              "    }\n",
              "</style>\n",
              "<table border=\"1\" class=\"dataframe\">\n",
              "  <thead>\n",
              "    <tr style=\"text-align: right;\">\n",
              "      <th></th>\n",
              "      <th>Vetorial</th>\n",
              "      <th>LPT</th>\n",
              "      <th>P1</th>\n",
              "      <th>IC</th>\n",
              "      <th>LP1</th>\n",
              "      <th>Cálculo2</th>\n",
              "      <th>Discreta</th>\n",
              "      <th>P2</th>\n",
              "      <th>Grafos</th>\n",
              "      <th>Fís.Clássica</th>\n",
              "      <th>LP2</th>\n",
              "      <th>cra</th>\n",
              "      <th>Cálculo1</th>\n",
              "    </tr>\n",
              "  </thead>\n",
              "  <tbody>\n",
              "    <tr>\n",
              "      <th>count</th>\n",
              "      <td>88.000000</td>\n",
              "      <td>88.000000</td>\n",
              "      <td>88.000000</td>\n",
              "      <td>88.000000</td>\n",
              "      <td>88.000000</td>\n",
              "      <td>88.000000</td>\n",
              "      <td>88.000000</td>\n",
              "      <td>88.000000</td>\n",
              "      <td>88.000000</td>\n",
              "      <td>88.000000</td>\n",
              "      <td>88.000000</td>\n",
              "      <td>88.000000</td>\n",
              "      <td>88.000000</td>\n",
              "    </tr>\n",
              "    <tr>\n",
              "      <th>mean</th>\n",
              "      <td>7.280682</td>\n",
              "      <td>8.480114</td>\n",
              "      <td>7.407955</td>\n",
              "      <td>8.172727</td>\n",
              "      <td>7.597727</td>\n",
              "      <td>6.323864</td>\n",
              "      <td>6.764773</td>\n",
              "      <td>7.941364</td>\n",
              "      <td>7.196591</td>\n",
              "      <td>7.107955</td>\n",
              "      <td>8.631818</td>\n",
              "      <td>7.332535</td>\n",
              "      <td>7.200000</td>\n",
              "    </tr>\n",
              "    <tr>\n",
              "      <th>std</th>\n",
              "      <td>1.404169</td>\n",
              "      <td>0.984522</td>\n",
              "      <td>1.346278</td>\n",
              "      <td>0.894007</td>\n",
              "      <td>1.371799</td>\n",
              "      <td>1.293662</td>\n",
              "      <td>1.228403</td>\n",
              "      <td>0.990478</td>\n",
              "      <td>1.277970</td>\n",
              "      <td>0.908987</td>\n",
              "      <td>0.969008</td>\n",
              "      <td>0.849758</td>\n",
              "      <td>1.228493</td>\n",
              "    </tr>\n",
              "    <tr>\n",
              "      <th>min</th>\n",
              "      <td>5.000000</td>\n",
              "      <td>6.200000</td>\n",
              "      <td>5.000000</td>\n",
              "      <td>5.900000</td>\n",
              "      <td>5.000000</td>\n",
              "      <td>5.000000</td>\n",
              "      <td>5.000000</td>\n",
              "      <td>5.300000</td>\n",
              "      <td>5.000000</td>\n",
              "      <td>5.000000</td>\n",
              "      <td>5.000000</td>\n",
              "      <td>4.874468</td>\n",
              "      <td>5.000000</td>\n",
              "    </tr>\n",
              "    <tr>\n",
              "      <th>25%</th>\n",
              "      <td>6.275000</td>\n",
              "      <td>7.700000</td>\n",
              "      <td>6.500000</td>\n",
              "      <td>7.500000</td>\n",
              "      <td>6.600000</td>\n",
              "      <td>5.100000</td>\n",
              "      <td>5.675000</td>\n",
              "      <td>7.300000</td>\n",
              "      <td>6.300000</td>\n",
              "      <td>7.000000</td>\n",
              "      <td>8.200000</td>\n",
              "      <td>6.841484</td>\n",
              "      <td>6.275000</td>\n",
              "    </tr>\n",
              "    <tr>\n",
              "      <th>50%</th>\n",
              "      <td>7.100000</td>\n",
              "      <td>8.500000</td>\n",
              "      <td>7.750000</td>\n",
              "      <td>8.200000</td>\n",
              "      <td>7.800000</td>\n",
              "      <td>5.800000</td>\n",
              "      <td>6.750000</td>\n",
              "      <td>7.950000</td>\n",
              "      <td>7.200000</td>\n",
              "      <td>7.000000</td>\n",
              "      <td>8.900000</td>\n",
              "      <td>7.274746</td>\n",
              "      <td>7.200000</td>\n",
              "    </tr>\n",
              "    <tr>\n",
              "      <th>75%</th>\n",
              "      <td>8.325000</td>\n",
              "      <td>9.300000</td>\n",
              "      <td>8.325000</td>\n",
              "      <td>8.800000</td>\n",
              "      <td>8.600000</td>\n",
              "      <td>7.500000</td>\n",
              "      <td>7.600000</td>\n",
              "      <td>8.800000</td>\n",
              "      <td>8.200000</td>\n",
              "      <td>7.500000</td>\n",
              "      <td>9.200000</td>\n",
              "      <td>7.883292</td>\n",
              "      <td>8.125000</td>\n",
              "    </tr>\n",
              "    <tr>\n",
              "      <th>max</th>\n",
              "      <td>10.000000</td>\n",
              "      <td>10.000000</td>\n",
              "      <td>10.000000</td>\n",
              "      <td>10.000000</td>\n",
              "      <td>10.000000</td>\n",
              "      <td>9.300000</td>\n",
              "      <td>9.600000</td>\n",
              "      <td>9.600000</td>\n",
              "      <td>10.000000</td>\n",
              "      <td>9.100000</td>\n",
              "      <td>9.700000</td>\n",
              "      <td>9.090588</td>\n",
              "      <td>9.800000</td>\n",
              "    </tr>\n",
              "  </tbody>\n",
              "</table>\n",
              "</div>\n",
              "      <button class=\"colab-df-convert\" onclick=\"convertToInteractive('df-9ea66f27-8ba2-4f6f-80d7-d3a1edc6bff3')\"\n",
              "              title=\"Convert this dataframe to an interactive table.\"\n",
              "              style=\"display:none;\">\n",
              "        \n",
              "  <svg xmlns=\"http://www.w3.org/2000/svg\" height=\"24px\"viewBox=\"0 0 24 24\"\n",
              "       width=\"24px\">\n",
              "    <path d=\"M0 0h24v24H0V0z\" fill=\"none\"/>\n",
              "    <path d=\"M18.56 5.44l.94 2.06.94-2.06 2.06-.94-2.06-.94-.94-2.06-.94 2.06-2.06.94zm-11 1L8.5 8.5l.94-2.06 2.06-.94-2.06-.94L8.5 2.5l-.94 2.06-2.06.94zm10 10l.94 2.06.94-2.06 2.06-.94-2.06-.94-.94-2.06-.94 2.06-2.06.94z\"/><path d=\"M17.41 7.96l-1.37-1.37c-.4-.4-.92-.59-1.43-.59-.52 0-1.04.2-1.43.59L10.3 9.45l-7.72 7.72c-.78.78-.78 2.05 0 2.83L4 21.41c.39.39.9.59 1.41.59.51 0 1.02-.2 1.41-.59l7.78-7.78 2.81-2.81c.8-.78.8-2.07 0-2.86zM5.41 20L4 18.59l7.72-7.72 1.47 1.35L5.41 20z\"/>\n",
              "  </svg>\n",
              "      </button>\n",
              "      \n",
              "  <style>\n",
              "    .colab-df-container {\n",
              "      display:flex;\n",
              "      flex-wrap:wrap;\n",
              "      gap: 12px;\n",
              "    }\n",
              "\n",
              "    .colab-df-convert {\n",
              "      background-color: #E8F0FE;\n",
              "      border: none;\n",
              "      border-radius: 50%;\n",
              "      cursor: pointer;\n",
              "      display: none;\n",
              "      fill: #1967D2;\n",
              "      height: 32px;\n",
              "      padding: 0 0 0 0;\n",
              "      width: 32px;\n",
              "    }\n",
              "\n",
              "    .colab-df-convert:hover {\n",
              "      background-color: #E2EBFA;\n",
              "      box-shadow: 0px 1px 2px rgba(60, 64, 67, 0.3), 0px 1px 3px 1px rgba(60, 64, 67, 0.15);\n",
              "      fill: #174EA6;\n",
              "    }\n",
              "\n",
              "    [theme=dark] .colab-df-convert {\n",
              "      background-color: #3B4455;\n",
              "      fill: #D2E3FC;\n",
              "    }\n",
              "\n",
              "    [theme=dark] .colab-df-convert:hover {\n",
              "      background-color: #434B5C;\n",
              "      box-shadow: 0px 1px 3px 1px rgba(0, 0, 0, 0.15);\n",
              "      filter: drop-shadow(0px 1px 2px rgba(0, 0, 0, 0.3));\n",
              "      fill: #FFFFFF;\n",
              "    }\n",
              "  </style>\n",
              "\n",
              "      <script>\n",
              "        const buttonEl =\n",
              "          document.querySelector('#df-9ea66f27-8ba2-4f6f-80d7-d3a1edc6bff3 button.colab-df-convert');\n",
              "        buttonEl.style.display =\n",
              "          google.colab.kernel.accessAllowed ? 'block' : 'none';\n",
              "\n",
              "        async function convertToInteractive(key) {\n",
              "          const element = document.querySelector('#df-9ea66f27-8ba2-4f6f-80d7-d3a1edc6bff3');\n",
              "          const dataTable =\n",
              "            await google.colab.kernel.invokeFunction('convertToInteractive',\n",
              "                                                     [key], {});\n",
              "          if (!dataTable) return;\n",
              "\n",
              "          const docLinkHtml = 'Like what you see? Visit the ' +\n",
              "            '<a target=\"_blank\" href=https://colab.research.google.com/notebooks/data_table.ipynb>data table notebook</a>'\n",
              "            + ' to learn more about interactive tables.';\n",
              "          element.innerHTML = '';\n",
              "          dataTable['output_type'] = 'display_data';\n",
              "          await google.colab.output.renderOutput(dataTable, element);\n",
              "          const docLink = document.createElement('div');\n",
              "          docLink.innerHTML = docLinkHtml;\n",
              "          element.appendChild(docLink);\n",
              "        }\n",
              "      </script>\n",
              "    </div>\n",
              "  </div>\n",
              "  "
            ]
          },
          "metadata": {},
          "execution_count": 228
        }
      ]
    },
    {
      "cell_type": "markdown",
      "metadata": {
        "id": "w04_C7DmRisP"
      },
      "source": [
        "# Partição Treino/Teste"
      ]
    },
    {
      "cell_type": "code",
      "metadata": {
        "id": "Ag2owOFhRm7y"
      },
      "source": [
        "x = df[['Cálculo1', 'LPT', 'P1', 'IC', 'Cálculo2']]\n",
        "y = df.cra.values\n",
        "\n",
        "x_train, x_test, y_train, y_test = train_test_split(x, y, test_size=0.1, random_state=42)"
      ],
      "execution_count": null,
      "outputs": []
    },
    {
      "cell_type": "code",
      "source": [
        "x_train"
      ],
      "metadata": {
        "id": "4dlFX_3vV-3d",
        "outputId": "e024d972-8c65-42c5-dc36-d0c51bbaee0a",
        "colab": {
          "base_uri": "https://localhost:8080/",
          "height": 424
        }
      },
      "execution_count": null,
      "outputs": [
        {
          "output_type": "execute_result",
          "data": {
            "text/plain": [
              "    Cálculo1  LPT   P1   IC  Cálculo2\n",
              "68       7.0  8.0  7.0  8.6       5.3\n",
              "85       5.0  7.2  7.8  7.4       5.3\n",
              "65       7.5  8.5  7.3  8.6       7.0\n",
              "53       7.2  9.1  8.2  8.9       5.2\n",
              "80       7.2  8.3  7.8  8.1       9.3\n",
              "..       ...  ...  ...  ...       ...\n",
              "20       7.0  7.5  5.6  8.0       5.6\n",
              "60       7.2  7.7  8.3  7.9       5.0\n",
              "71       8.2  6.2  5.4  6.7       5.1\n",
              "14       7.4  7.5  6.5  7.3       5.4\n",
              "51       7.2  7.6  7.9  7.7       6.1\n",
              "\n",
              "[79 rows x 5 columns]"
            ],
            "text/html": [
              "\n",
              "  <div id=\"df-3dcdf4f6-decd-4de4-8440-4af61ae9ef73\">\n",
              "    <div class=\"colab-df-container\">\n",
              "      <div>\n",
              "<style scoped>\n",
              "    .dataframe tbody tr th:only-of-type {\n",
              "        vertical-align: middle;\n",
              "    }\n",
              "\n",
              "    .dataframe tbody tr th {\n",
              "        vertical-align: top;\n",
              "    }\n",
              "\n",
              "    .dataframe thead th {\n",
              "        text-align: right;\n",
              "    }\n",
              "</style>\n",
              "<table border=\"1\" class=\"dataframe\">\n",
              "  <thead>\n",
              "    <tr style=\"text-align: right;\">\n",
              "      <th></th>\n",
              "      <th>Cálculo1</th>\n",
              "      <th>LPT</th>\n",
              "      <th>P1</th>\n",
              "      <th>IC</th>\n",
              "      <th>Cálculo2</th>\n",
              "    </tr>\n",
              "  </thead>\n",
              "  <tbody>\n",
              "    <tr>\n",
              "      <th>68</th>\n",
              "      <td>7.0</td>\n",
              "      <td>8.0</td>\n",
              "      <td>7.0</td>\n",
              "      <td>8.6</td>\n",
              "      <td>5.3</td>\n",
              "    </tr>\n",
              "    <tr>\n",
              "      <th>85</th>\n",
              "      <td>5.0</td>\n",
              "      <td>7.2</td>\n",
              "      <td>7.8</td>\n",
              "      <td>7.4</td>\n",
              "      <td>5.3</td>\n",
              "    </tr>\n",
              "    <tr>\n",
              "      <th>65</th>\n",
              "      <td>7.5</td>\n",
              "      <td>8.5</td>\n",
              "      <td>7.3</td>\n",
              "      <td>8.6</td>\n",
              "      <td>7.0</td>\n",
              "    </tr>\n",
              "    <tr>\n",
              "      <th>53</th>\n",
              "      <td>7.2</td>\n",
              "      <td>9.1</td>\n",
              "      <td>8.2</td>\n",
              "      <td>8.9</td>\n",
              "      <td>5.2</td>\n",
              "    </tr>\n",
              "    <tr>\n",
              "      <th>80</th>\n",
              "      <td>7.2</td>\n",
              "      <td>8.3</td>\n",
              "      <td>7.8</td>\n",
              "      <td>8.1</td>\n",
              "      <td>9.3</td>\n",
              "    </tr>\n",
              "    <tr>\n",
              "      <th>...</th>\n",
              "      <td>...</td>\n",
              "      <td>...</td>\n",
              "      <td>...</td>\n",
              "      <td>...</td>\n",
              "      <td>...</td>\n",
              "    </tr>\n",
              "    <tr>\n",
              "      <th>20</th>\n",
              "      <td>7.0</td>\n",
              "      <td>7.5</td>\n",
              "      <td>5.6</td>\n",
              "      <td>8.0</td>\n",
              "      <td>5.6</td>\n",
              "    </tr>\n",
              "    <tr>\n",
              "      <th>60</th>\n",
              "      <td>7.2</td>\n",
              "      <td>7.7</td>\n",
              "      <td>8.3</td>\n",
              "      <td>7.9</td>\n",
              "      <td>5.0</td>\n",
              "    </tr>\n",
              "    <tr>\n",
              "      <th>71</th>\n",
              "      <td>8.2</td>\n",
              "      <td>6.2</td>\n",
              "      <td>5.4</td>\n",
              "      <td>6.7</td>\n",
              "      <td>5.1</td>\n",
              "    </tr>\n",
              "    <tr>\n",
              "      <th>14</th>\n",
              "      <td>7.4</td>\n",
              "      <td>7.5</td>\n",
              "      <td>6.5</td>\n",
              "      <td>7.3</td>\n",
              "      <td>5.4</td>\n",
              "    </tr>\n",
              "    <tr>\n",
              "      <th>51</th>\n",
              "      <td>7.2</td>\n",
              "      <td>7.6</td>\n",
              "      <td>7.9</td>\n",
              "      <td>7.7</td>\n",
              "      <td>6.1</td>\n",
              "    </tr>\n",
              "  </tbody>\n",
              "</table>\n",
              "<p>79 rows × 5 columns</p>\n",
              "</div>\n",
              "      <button class=\"colab-df-convert\" onclick=\"convertToInteractive('df-3dcdf4f6-decd-4de4-8440-4af61ae9ef73')\"\n",
              "              title=\"Convert this dataframe to an interactive table.\"\n",
              "              style=\"display:none;\">\n",
              "        \n",
              "  <svg xmlns=\"http://www.w3.org/2000/svg\" height=\"24px\"viewBox=\"0 0 24 24\"\n",
              "       width=\"24px\">\n",
              "    <path d=\"M0 0h24v24H0V0z\" fill=\"none\"/>\n",
              "    <path d=\"M18.56 5.44l.94 2.06.94-2.06 2.06-.94-2.06-.94-.94-2.06-.94 2.06-2.06.94zm-11 1L8.5 8.5l.94-2.06 2.06-.94-2.06-.94L8.5 2.5l-.94 2.06-2.06.94zm10 10l.94 2.06.94-2.06 2.06-.94-2.06-.94-.94-2.06-.94 2.06-2.06.94z\"/><path d=\"M17.41 7.96l-1.37-1.37c-.4-.4-.92-.59-1.43-.59-.52 0-1.04.2-1.43.59L10.3 9.45l-7.72 7.72c-.78.78-.78 2.05 0 2.83L4 21.41c.39.39.9.59 1.41.59.51 0 1.02-.2 1.41-.59l7.78-7.78 2.81-2.81c.8-.78.8-2.07 0-2.86zM5.41 20L4 18.59l7.72-7.72 1.47 1.35L5.41 20z\"/>\n",
              "  </svg>\n",
              "      </button>\n",
              "      \n",
              "  <style>\n",
              "    .colab-df-container {\n",
              "      display:flex;\n",
              "      flex-wrap:wrap;\n",
              "      gap: 12px;\n",
              "    }\n",
              "\n",
              "    .colab-df-convert {\n",
              "      background-color: #E8F0FE;\n",
              "      border: none;\n",
              "      border-radius: 50%;\n",
              "      cursor: pointer;\n",
              "      display: none;\n",
              "      fill: #1967D2;\n",
              "      height: 32px;\n",
              "      padding: 0 0 0 0;\n",
              "      width: 32px;\n",
              "    }\n",
              "\n",
              "    .colab-df-convert:hover {\n",
              "      background-color: #E2EBFA;\n",
              "      box-shadow: 0px 1px 2px rgba(60, 64, 67, 0.3), 0px 1px 3px 1px rgba(60, 64, 67, 0.15);\n",
              "      fill: #174EA6;\n",
              "    }\n",
              "\n",
              "    [theme=dark] .colab-df-convert {\n",
              "      background-color: #3B4455;\n",
              "      fill: #D2E3FC;\n",
              "    }\n",
              "\n",
              "    [theme=dark] .colab-df-convert:hover {\n",
              "      background-color: #434B5C;\n",
              "      box-shadow: 0px 1px 3px 1px rgba(0, 0, 0, 0.15);\n",
              "      filter: drop-shadow(0px 1px 2px rgba(0, 0, 0, 0.3));\n",
              "      fill: #FFFFFF;\n",
              "    }\n",
              "  </style>\n",
              "\n",
              "      <script>\n",
              "        const buttonEl =\n",
              "          document.querySelector('#df-3dcdf4f6-decd-4de4-8440-4af61ae9ef73 button.colab-df-convert');\n",
              "        buttonEl.style.display =\n",
              "          google.colab.kernel.accessAllowed ? 'block' : 'none';\n",
              "\n",
              "        async function convertToInteractive(key) {\n",
              "          const element = document.querySelector('#df-3dcdf4f6-decd-4de4-8440-4af61ae9ef73');\n",
              "          const dataTable =\n",
              "            await google.colab.kernel.invokeFunction('convertToInteractive',\n",
              "                                                     [key], {});\n",
              "          if (!dataTable) return;\n",
              "\n",
              "          const docLinkHtml = 'Like what you see? Visit the ' +\n",
              "            '<a target=\"_blank\" href=https://colab.research.google.com/notebooks/data_table.ipynb>data table notebook</a>'\n",
              "            + ' to learn more about interactive tables.';\n",
              "          element.innerHTML = '';\n",
              "          dataTable['output_type'] = 'display_data';\n",
              "          await google.colab.output.renderOutput(dataTable, element);\n",
              "          const docLink = document.createElement('div');\n",
              "          docLink.innerHTML = docLinkHtml;\n",
              "          element.appendChild(docLink);\n",
              "        }\n",
              "      </script>\n",
              "    </div>\n",
              "  </div>\n",
              "  "
            ]
          },
          "metadata": {},
          "execution_count": 230
        }
      ]
    },
    {
      "cell_type": "markdown",
      "source": [
        "# 2. Construa um gráfico de correlação mostrando as correlações entre cada variável independente com a variável dependente (nos dados de treino);"
      ],
      "metadata": {
        "id": "pZAZPTBFRrk0"
      }
    },
    {
      "cell_type": "markdown",
      "source": [
        "Transformando o dados de treino y como uma série(no Pandas). Será util na hora de calcular a correlação. Aqui copiamos os indices da mostragem em x para que não haja problemas no calculo da correlação."
      ],
      "metadata": {
        "id": "pl33x6r5r6Hw"
      }
    },
    {
      "cell_type": "code",
      "source": [
        "ytrain = pd.Series(y_train, index = x_train.index, name = 'cra')\n",
        "ytrain\n"
      ],
      "metadata": {
        "id": "JVf9P4HuWAPT",
        "colab": {
          "base_uri": "https://localhost:8080/"
        },
        "outputId": "fb884644-8cfc-4587-f654-135a2741a0de"
      },
      "execution_count": null,
      "outputs": [
        {
          "output_type": "execute_result",
          "data": {
            "text/plain": [
              "68    7.869880\n",
              "85    7.282022\n",
              "65    7.684706\n",
              "53    7.225806\n",
              "80    6.931959\n",
              "        ...   \n",
              "20    7.058621\n",
              "60    8.022353\n",
              "71    7.250575\n",
              "14    6.116279\n",
              "51    7.495402\n",
              "Name: cra, Length: 79, dtype: float64"
            ]
          },
          "metadata": {},
          "execution_count": 231
        }
      ]
    },
    {
      "cell_type": "markdown",
      "source": [
        "Correlação de pearson das colunas x_train com ytrain."
      ],
      "metadata": {
        "id": "EBjGogSUufPM"
      }
    },
    {
      "cell_type": "code",
      "source": [
        "correlation = x_train.corrwith(ytrain)\n",
        "correlation"
      ],
      "metadata": {
        "colab": {
          "base_uri": "https://localhost:8080/"
        },
        "id": "_XIleP53cx-3",
        "outputId": "6ec69ae3-bc96-4276-c898-5b52ba2a8fdc"
      },
      "execution_count": null,
      "outputs": [
        {
          "output_type": "execute_result",
          "data": {
            "text/plain": [
              "Cálculo1    0.289495\n",
              "LPT         0.246849\n",
              "P1          0.511601\n",
              "IC          0.563968\n",
              "Cálculo2    0.241463\n",
              "dtype: float64"
            ]
          },
          "metadata": {},
          "execution_count": 232
        }
      ]
    },
    {
      "cell_type": "code",
      "source": [
        "plt.plot(correlation)\n",
        "plt.title('Correlação de pearson (linear)')\n",
        "plt.xlabel('Disciplinas')\n",
        "plt.ylabel('Coeficienete de correlação')\n",
        "\n",
        "plt.show()"
      ],
      "metadata": {
        "colab": {
          "base_uri": "https://localhost:8080/",
          "height": 472
        },
        "id": "gQbsrYNeRMFX",
        "outputId": "ebda3677-2235-471d-9fc7-9815cf04cb76"
      },
      "execution_count": null,
      "outputs": [
        {
          "output_type": "display_data",
          "data": {
            "text/plain": [
              "<Figure size 640x480 with 1 Axes>"
            ],
            "image/png": "[encoded data removed]"
          },
          "metadata": {}
        }
      ]
    },
    {
      "cell_type": "markdown",
      "source": [
        "matriz de correlação:"
      ],
      "metadata": {
        "id": "5Z9O9Zf1XcCH"
      }
    },
    {
      "cell_type": "code",
      "source": [
        "dtrain = x_train.join(ytrain)\n",
        "dtrain"
      ],
      "metadata": {
        "colab": {
          "base_uri": "https://localhost:8080/",
          "height": 424
        },
        "id": "82T4hbhcZMje",
        "outputId": "bbf3844b-b93b-4161-9033-8dba8dd16451"
      },
      "execution_count": null,
      "outputs": [
        {
          "output_type": "execute_result",
          "data": {
            "text/plain": [
              "    Cálculo1  LPT   P1   IC  Cálculo2       cra\n",
              "68       7.0  8.0  7.0  8.6       5.3  7.869880\n",
              "85       5.0  7.2  7.8  7.4       5.3  7.282022\n",
              "65       7.5  8.5  7.3  8.6       7.0  7.684706\n",
              "53       7.2  9.1  8.2  8.9       5.2  7.225806\n",
              "80       7.2  8.3  7.8  8.1       9.3  6.931959\n",
              "..       ...  ...  ...  ...       ...       ...\n",
              "20       7.0  7.5  5.6  8.0       5.6  7.058621\n",
              "60       7.2  7.7  8.3  7.9       5.0  8.022353\n",
              "71       8.2  6.2  5.4  6.7       5.1  7.250575\n",
              "14       7.4  7.5  6.5  7.3       5.4  6.116279\n",
              "51       7.2  7.6  7.9  7.7       6.1  7.495402\n",
              "\n",
              "[79 rows x 6 columns]"
            ],
            "text/html": [
              "\n",
              "  <div id=\"df-e55ffa59-9de7-4bbf-a0ca-2d37b79055e0\">\n",
              "    <div class=\"colab-df-container\">\n",
              "      <div>\n",
              "<style scoped>\n",
              "    .dataframe tbody tr th:only-of-type {\n",
              "        vertical-align: middle;\n",
              "    }\n",
              "\n",
              "    .dataframe tbody tr th {\n",
              "        vertical-align: top;\n",
              "    }\n",
              "\n",
              "    .dataframe thead th {\n",
              "        text-align: right;\n",
              "    }\n",
              "</style>\n",
              "<table border=\"1\" class=\"dataframe\">\n",
              "  <thead>\n",
              "    <tr style=\"text-align: right;\">\n",
              "      <th></th>\n",
              "      <th>Cálculo1</th>\n",
              "      <th>LPT</th>\n",
              "      <th>P1</th>\n",
              "      <th>IC</th>\n",
              "      <th>Cálculo2</th>\n",
              "      <th>cra</th>\n",
              "    </tr>\n",
              "  </thead>\n",
              "  <tbody>\n",
              "    <tr>\n",
              "      <th>68</th>\n",
              "      <td>7.0</td>\n",
              "      <td>8.0</td>\n",
              "      <td>7.0</td>\n",
              "      <td>8.6</td>\n",
              "      <td>5.3</td>\n",
              "      <td>7.869880</td>\n",
              "    </tr>\n",
              "    <tr>\n",
              "      <th>85</th>\n",
              "      <td>5.0</td>\n",
              "      <td>7.2</td>\n",
              "      <td>7.8</td>\n",
              "      <td>7.4</td>\n",
              "      <td>5.3</td>\n",
              "      <td>7.282022</td>\n",
              "    </tr>\n",
              "    <tr>\n",
              "      <th>65</th>\n",
              "      <td>7.5</td>\n",
              "      <td>8.5</td>\n",
              "      <td>7.3</td>\n",
              "      <td>8.6</td>\n",
              "      <td>7.0</td>\n",
              "      <td>7.684706</td>\n",
              "    </tr>\n",
              "    <tr>\n",
              "      <th>53</th>\n",
              "      <td>7.2</td>\n",
              "      <td>9.1</td>\n",
              "      <td>8.2</td>\n",
              "      <td>8.9</td>\n",
              "      <td>5.2</td>\n",
              "      <td>7.225806</td>\n",
              "    </tr>\n",
              "    <tr>\n",
              "      <th>80</th>\n",
              "      <td>7.2</td>\n",
              "      <td>8.3</td>\n",
              "      <td>7.8</td>\n",
              "      <td>8.1</td>\n",
              "      <td>9.3</td>\n",
              "      <td>6.931959</td>\n",
              "    </tr>\n",
              "    <tr>\n",
              "      <th>...</th>\n",
              "      <td>...</td>\n",
              "      <td>...</td>\n",
              "      <td>...</td>\n",
              "      <td>...</td>\n",
              "      <td>...</td>\n",
              "      <td>...</td>\n",
              "    </tr>\n",
              "    <tr>\n",
              "      <th>20</th>\n",
              "      <td>7.0</td>\n",
              "      <td>7.5</td>\n",
              "      <td>5.6</td>\n",
              "      <td>8.0</td>\n",
              "      <td>5.6</td>\n",
              "      <td>7.058621</td>\n",
              "    </tr>\n",
              "    <tr>\n",
              "      <th>60</th>\n",
              "      <td>7.2</td>\n",
              "      <td>7.7</td>\n",
              "      <td>8.3</td>\n",
              "      <td>7.9</td>\n",
              "      <td>5.0</td>\n",
              "      <td>8.022353</td>\n",
              "    </tr>\n",
              "    <tr>\n",
              "      <th>71</th>\n",
              "      <td>8.2</td>\n",
              "      <td>6.2</td>\n",
              "      <td>5.4</td>\n",
              "      <td>6.7</td>\n",
              "      <td>5.1</td>\n",
              "      <td>7.250575</td>\n",
              "    </tr>\n",
              "    <tr>\n",
              "      <th>14</th>\n",
              "      <td>7.4</td>\n",
              "      <td>7.5</td>\n",
              "      <td>6.5</td>\n",
              "      <td>7.3</td>\n",
              "      <td>5.4</td>\n",
              "      <td>6.116279</td>\n",
              "    </tr>\n",
              "    <tr>\n",
              "      <th>51</th>\n",
              "      <td>7.2</td>\n",
              "      <td>7.6</td>\n",
              "      <td>7.9</td>\n",
              "      <td>7.7</td>\n",
              "      <td>6.1</td>\n",
              "      <td>7.495402</td>\n",
              "    </tr>\n",
              "  </tbody>\n",
              "</table>\n",
              "<p>79 rows × 6 columns</p>\n",
              "</div>\n",
              "      <button class=\"colab-df-convert\" onclick=\"convertToInteractive('df-e55ffa59-9de7-4bbf-a0ca-2d37b79055e0')\"\n",
              "              title=\"Convert this dataframe to an interactive table.\"\n",
              "              style=\"display:none;\">\n",
              "        \n",
              "  <svg xmlns=\"http://www.w3.org/2000/svg\" height=\"24px\"viewBox=\"0 0 24 24\"\n",
              "       width=\"24px\">\n",
              "    <path d=\"M0 0h24v24H0V0z\" fill=\"none\"/>\n",
              "    <path d=\"M18.56 5.44l.94 2.06.94-2.06 2.06-.94-2.06-.94-.94-2.06-.94 2.06-2.06.94zm-11 1L8.5 8.5l.94-2.06 2.06-.94-2.06-.94L8.5 2.5l-.94 2.06-2.06.94zm10 10l.94 2.06.94-2.06 2.06-.94-2.06-.94-.94-2.06-.94 2.06-2.06.94z\"/><path d=\"M17.41 7.96l-1.37-1.37c-.4-.4-.92-.59-1.43-.59-.52 0-1.04.2-1.43.59L10.3 9.45l-7.72 7.72c-.78.78-.78 2.05 0 2.83L4 21.41c.39.39.9.59 1.41.59.51 0 1.02-.2 1.41-.59l7.78-7.78 2.81-2.81c.8-.78.8-2.07 0-2.86zM5.41 20L4 18.59l7.72-7.72 1.47 1.35L5.41 20z\"/>\n",
              "  </svg>\n",
              "      </button>\n",
              "      \n",
              "  <style>\n",
              "    .colab-df-container {\n",
              "      display:flex;\n",
              "      flex-wrap:wrap;\n",
              "      gap: 12px;\n",
              "    }\n",
              "\n",
              "    .colab-df-convert {\n",
              "      background-color: #E8F0FE;\n",
              "      border: none;\n",
              "      border-radius: 50%;\n",
              "      cursor: pointer;\n",
              "      display: none;\n",
              "      fill: #1967D2;\n",
              "      height: 32px;\n",
              "      padding: 0 0 0 0;\n",
              "      width: 32px;\n",
              "    }\n",
              "\n",
              "    .colab-df-convert:hover {\n",
              "      background-color: #E2EBFA;\n",
              "      box-shadow: 0px 1px 2px rgba(60, 64, 67, 0.3), 0px 1px 3px 1px rgba(60, 64, 67, 0.15);\n",
              "      fill: #174EA6;\n",
              "    }\n",
              "\n",
              "    [theme=dark] .colab-df-convert {\n",
              "      background-color: #3B4455;\n",
              "      fill: #D2E3FC;\n",
              "    }\n",
              "\n",
              "    [theme=dark] .colab-df-convert:hover {\n",
              "      background-color: #434B5C;\n",
              "      box-shadow: 0px 1px 3px 1px rgba(0, 0, 0, 0.15);\n",
              "      filter: drop-shadow(0px 1px 2px rgba(0, 0, 0, 0.3));\n",
              "      fill: #FFFFFF;\n",
              "    }\n",
              "  </style>\n",
              "\n",
              "      <script>\n",
              "        const buttonEl =\n",
              "          document.querySelector('#df-e55ffa59-9de7-4bbf-a0ca-2d37b79055e0 button.colab-df-convert');\n",
              "        buttonEl.style.display =\n",
              "          google.colab.kernel.accessAllowed ? 'block' : 'none';\n",
              "\n",
              "        async function convertToInteractive(key) {\n",
              "          const element = document.querySelector('#df-e55ffa59-9de7-4bbf-a0ca-2d37b79055e0');\n",
              "          const dataTable =\n",
              "            await google.colab.kernel.invokeFunction('convertToInteractive',\n",
              "                                                     [key], {});\n",
              "          if (!dataTable) return;\n",
              "\n",
              "          const docLinkHtml = 'Like what you see? Visit the ' +\n",
              "            '<a target=\"_blank\" href=https://colab.research.google.com/notebooks/data_table.ipynb>data table notebook</a>'\n",
              "            + ' to learn more about interactive tables.';\n",
              "          element.innerHTML = '';\n",
              "          dataTable['output_type'] = 'display_data';\n",
              "          await google.colab.output.renderOutput(dataTable, element);\n",
              "          const docLink = document.createElement('div');\n",
              "          docLink.innerHTML = docLinkHtml;\n",
              "          element.appendChild(docLink);\n",
              "        }\n",
              "      </script>\n",
              "    </div>\n",
              "  </div>\n",
              "  "
            ]
          },
          "metadata": {},
          "execution_count": 234
        }
      ]
    },
    {
      "cell_type": "code",
      "source": [
        "correlation = dtrain.corr()\n",
        "sns.heatmap(correlation,annot=True)\n",
        "plt.title(\"Matriz de correlação (Pearson)\")\n",
        "plt.show()\n"
      ],
      "metadata": {
        "colab": {
          "base_uri": "https://localhost:8080/",
          "height": 452
        },
        "id": "3BE_2grJYRyU",
        "outputId": "5c885aa0-ba96-41b4-fec1-bd03ddbf9521"
      },
      "execution_count": null,
      "outputs": [
        {
          "output_type": "display_data",
          "data": {
            "text/plain": [
              "<Figure size 640x480 with 2 Axes>"
            ],
            "image/png": "[encoded data removed]"
          },
          "metadata": {}
        }
      ]
    },
    {
      "cell_type": "markdown",
      "source": [
        "Olhando tanto para a corolação da matriz de correlação (cores mais avermelhadas indicam maior correlação), tanto para os valores absolutos, temos que as três materias que mais se correlacionam positivamente com o CRA são  IC, P1 e Calculo 1"
      ],
      "metadata": {
        "id": "usCs_bwWd2xv"
      }
    },
    {
      "cell_type": "markdown",
      "source": [
        "#3.Escolha a variável melhor correlacionada e construa uma regressão simples. Meça o RMSE no treino e teste."
      ],
      "metadata": {
        "id": "gH8quswFUfpZ"
      }
    },
    {
      "cell_type": "markdown",
      "source": [
        "Fazendo a regressão linear entre as notas de IC e o CRA"
      ],
      "metadata": {
        "id": "FLwn-cUZg0zw"
      }
    },
    {
      "cell_type": "code",
      "source": [
        "regr = LinearRegression()\n"
      ],
      "metadata": {
        "id": "RePoJvqQXRcL"
      },
      "execution_count": null,
      "outputs": []
    },
    {
      "cell_type": "markdown",
      "source": [
        "Treinando o modelo:"
      ],
      "metadata": {
        "id": "SqTUhOwPksHx"
      }
    },
    {
      "cell_type": "code",
      "source": [
        "x_ic = np.array(x_train.IC).reshape(-1,1)\n",
        "\n",
        "regr.fit(x_ic,y_train)\n",
        "regr.coef_\n",
        "regr.intercept_"
      ],
      "metadata": {
        "colab": {
          "base_uri": "https://localhost:8080/"
        },
        "id": "OSqxE4b1kwrO",
        "outputId": "4ee7b9fa-2299-4243-8c7a-769c5f7507b5"
      },
      "execution_count": null,
      "outputs": [
        {
          "output_type": "execute_result",
          "data": {
            "text/plain": [
              "2.8673970230611703"
            ]
          },
          "metadata": {},
          "execution_count": 237
        }
      ]
    },
    {
      "cell_type": "markdown",
      "source": [
        "Plotando os dados:"
      ],
      "metadata": {
        "id": "UV7IwXzAqIZc"
      }
    },
    {
      "cell_type": "code",
      "source": [
        "plt.scatter(x_ic,y_train)\n",
        "plt.show()"
      ],
      "metadata": {
        "colab": {
          "base_uri": "https://localhost:8080/",
          "height": 430
        },
        "id": "NrfasVkyqLLk",
        "outputId": "6bce586d-ea87-42af-abd5-72dd68954eff"
      },
      "execution_count": null,
      "outputs": [
        {
          "output_type": "display_data",
          "data": {
            "text/plain": [
              "<Figure size 640x480 with 1 Axes>"
            ],
            "image/png": "[encoded data removed]"
          },
          "metadata": {}
        }
      ]
    },
    {
      "cell_type": "markdown",
      "source": [
        "Fazendo previsôes :"
      ],
      "metadata": {
        "id": "9TMGLzLck8uh"
      }
    },
    {
      "cell_type": "code",
      "source": [
        "y_pred = regr.predict(x_ic)\n",
        "y_pred\n"
      ],
      "metadata": {
        "colab": {
          "base_uri": "https://localhost:8080/"
        },
        "id": "bKEi_DT2k7bC",
        "outputId": "ce6ecb15-a819-4d19-89c4-de45d062bfe1"
      },
      "execution_count": null,
      "outputs": [
        {
          "output_type": "execute_result",
          "data": {
            "text/plain": [
              "array([7.57715479, 6.91997929, 7.57715479, 7.74144867, 7.30333166,\n",
              "       7.35809629, 6.97474391, 6.31756841, 7.79621329, 8.23433029,\n",
              "       6.81045004, 8.12480104, 7.13903779, 7.24856704, 7.35809629,\n",
              "       7.90574254, 7.19380241, 7.96050717, 7.90574254, 7.19380241,\n",
              "       6.75568541, 7.46762554, 7.79621329, 7.96050717, 6.70092079,\n",
              "       6.09850991, 7.19380241, 7.46762554, 7.74144867, 7.02950854,\n",
              "       8.34385954, 7.30333166, 7.96050717, 7.41286091, 7.08427316,\n",
              "       7.35809629, 7.96050717, 6.15327454, 7.19380241, 7.35809629,\n",
              "       7.57715479, 8.07003642, 6.91997929, 7.41286091, 7.41286091,\n",
              "       6.81045004, 6.81045004, 6.70092079, 7.68668404, 8.23433029,\n",
              "       7.30333166, 7.24856704, 7.85097792, 6.97474391, 7.68668404,\n",
              "       7.35809629, 7.52239017, 6.97474391, 7.46762554, 6.91997929,\n",
              "       6.70092079, 7.13903779, 7.74144867, 7.13903779, 7.24856704,\n",
              "       7.68668404, 6.70092079, 6.86521466, 7.46762554, 8.12480104,\n",
              "       7.52239017, 6.75568541, 8.28909492, 7.57715479, 7.24856704,\n",
              "       7.19380241, 6.53662691, 6.86521466, 7.08427316])"
            ]
          },
          "metadata": {},
          "execution_count": 239
        }
      ]
    },
    {
      "cell_type": "markdown",
      "source": [
        "Calculando o RMSE do treino"
      ],
      "metadata": {
        "id": "Q93qcJWhmJaG"
      }
    },
    {
      "cell_type": "code",
      "source": [
        "rmse_train = mean_squared_error(y_train,y_pred,squared=False)\n",
        "rmse_train"
      ],
      "metadata": {
        "colab": {
          "base_uri": "https://localhost:8080/"
        },
        "id": "FFvrvxYjmhov",
        "outputId": "36bd232a-7a5a-4147-bb2a-32324805a53b"
      },
      "execution_count": null,
      "outputs": [
        {
          "output_type": "execute_result",
          "data": {
            "text/plain": [
              "0.7184727727075744"
            ]
          },
          "metadata": {},
          "execution_count": 240
        }
      ]
    },
    {
      "cell_type": "markdown",
      "source": [
        "Coeficiente R² do treino:"
      ],
      "metadata": {
        "id": "C6kJcobBatUQ"
      }
    },
    {
      "cell_type": "code",
      "source": [
        "r2 = r2_score(y_train,y_pred)\n",
        "r2"
      ],
      "metadata": {
        "colab": {
          "base_uri": "https://localhost:8080/"
        },
        "id": "ejzaxMqiCrQY",
        "outputId": "b8fc7709-c886-4974-9729-a074bbd56dfe"
      },
      "execution_count": null,
      "outputs": [
        {
          "output_type": "execute_result",
          "data": {
            "text/plain": [
              "0.318060131877395"
            ]
          },
          "metadata": {},
          "execution_count": 241
        }
      ]
    },
    {
      "cell_type": "markdown",
      "source": [
        "Fazendo as previsoes para os dados de teste:"
      ],
      "metadata": {
        "id": "SoKElaCeoU31"
      }
    },
    {
      "cell_type": "code",
      "source": [
        "x_ic_test = np.array(x_test.IC).reshape(-1,1)\n",
        "print(x_ic_test)\n",
        "y_pred = regr.predict(x_ic_test)\n",
        "y_pred"
      ],
      "metadata": {
        "colab": {
          "base_uri": "https://localhost:8080/"
        },
        "id": "cavV-P1EoZPx",
        "outputId": "5214d5ff-721b-432c-9c5e-99503493dd9a"
      },
      "execution_count": null,
      "outputs": [
        {
          "output_type": "stream",
          "name": "stdout",
          "text": [
            "[[9.8]\n",
            " [9.1]\n",
            " [8.3]\n",
            " [8.4]\n",
            " [8.1]\n",
            " [7. ]\n",
            " [7.5]\n",
            " [7.4]\n",
            " [8.5]]\n"
          ]
        },
        {
          "output_type": "execute_result",
          "data": {
            "text/plain": [
              "array([8.23433029, 7.85097792, 7.41286091, 7.46762554, 7.30333166,\n",
              "       6.70092079, 6.97474391, 6.91997929, 7.52239017])"
            ]
          },
          "metadata": {},
          "execution_count": 242
        }
      ]
    },
    {
      "cell_type": "markdown",
      "source": [
        "Calculando o coeficiente R² nos dados de teste"
      ],
      "metadata": {
        "id": "jlRoU2G02Zbm"
      }
    },
    {
      "cell_type": "code",
      "source": [
        "r2 = r2_score(y_test,y_pred)\n",
        "r2"
      ],
      "metadata": {
        "colab": {
          "base_uri": "https://localhost:8080/"
        },
        "id": "6VTXI4rWr0U9",
        "outputId": "69403678-d3ba-4b07-fd82-99162af45f66"
      },
      "execution_count": null,
      "outputs": [
        {
          "output_type": "execute_result",
          "data": {
            "text/plain": [
              "0.4826039994445386"
            ]
          },
          "metadata": {},
          "execution_count": 243
        }
      ]
    },
    {
      "cell_type": "markdown",
      "source": [
        "Plotando o grafico com as previsoes:"
      ],
      "metadata": {
        "id": "mLfE6oylqrmw"
      }
    },
    {
      "cell_type": "code",
      "source": [
        "plt.scatter(x_ic_test,y_test)\n",
        "plt.plot(x_ic_test,y_pred)\n",
        "plt.title(\"R² = {:.2f}\".format(r2))\n",
        "plt.xlabel(\"IC\")\n",
        "plt.ylabel(\"CRA\")\n",
        "plt.show()"
      ],
      "metadata": {
        "colab": {
          "base_uri": "https://localhost:8080/",
          "height": 472
        },
        "id": "JffNfb0lqyVf",
        "outputId": "0d03ffe2-18db-41fa-9470-515e7bdd1691"
      },
      "execution_count": null,
      "outputs": [
        {
          "output_type": "display_data",
          "data": {
            "text/plain": [
              "<Figure size 640x480 with 1 Axes>"
            ],
            "image/png": "[encoded data removed]"
          },
          "metadata": {}
        }
      ]
    },
    {
      "cell_type": "markdown",
      "source": [
        "RMSE nos dados de teste:"
      ],
      "metadata": {
        "id": "WPduvo13oznM"
      }
    },
    {
      "cell_type": "code",
      "source": [
        "rmse_test = mean_squared_error(y_test,y_pred,squared=False)\n",
        "rmse_test"
      ],
      "metadata": {
        "colab": {
          "base_uri": "https://localhost:8080/"
        },
        "id": "4MUrBFH4o4Uw",
        "outputId": "854d4734-36e7-4937-9bb2-8c0581c7caaf"
      },
      "execution_count": null,
      "outputs": [
        {
          "output_type": "execute_result",
          "data": {
            "text/plain": [
              "0.4142871496766733"
            ]
          },
          "metadata": {},
          "execution_count": 245
        }
      ]
    },
    {
      "cell_type": "markdown",
      "source": [
        "Resumindo:"
      ],
      "metadata": {
        "id": "KH0V0egD7Rr7"
      }
    },
    {
      "cell_type": "code",
      "source": [
        "print(\"r2 = {r2:.3f}\".format(r2 = r2))\n",
        "print(\"rmse_train: {rmse_train:.3f}\".format(rmse_train = rmse_train))\n",
        "print(\"rmse_test: {rmse_test:.3f}\".format(rmse_test = rmse_test))"
      ],
      "metadata": {
        "colab": {
          "base_uri": "https://localhost:8080/"
        },
        "id": "xPDUoh1p2kDs",
        "outputId": "862d2c42-f68d-479a-d1ee-368fc8eecb6c"
      },
      "execution_count": null,
      "outputs": [
        {
          "output_type": "stream",
          "name": "stdout",
          "text": [
            "r2 = 0.483\n",
            "rmse_train: 0.718\n",
            "rmse_test: 0.414\n"
          ]
        }
      ]
    },
    {
      "cell_type": "markdown",
      "source": [
        "Comparando os dados acima, nota-se até uma boa predição a partir do fato do rmse dos dados de teste ser menor que o de treino (o que pode ser devido a amostragem) , entretando o R² indica que apenas a nota de IC não é suficiente para  modelar o problema em relação CRA."
      ],
      "metadata": {
        "id": "FU4s4rvn4ZKt"
      }
    },
    {
      "cell_type": "markdown",
      "source": [
        "#4. Mesma coisa que item 3 acima mas agora com as três variáveis melhores correlacionadas."
      ],
      "metadata": {
        "id": "ZzmVOeQg40S-"
      }
    },
    {
      "cell_type": "markdown",
      "source": [
        "Como comentado na questão 2, as notas que tem a maior correlação  positiva (linear de Pearson) com o CRA são IC, P1 e Cálculo 1. Vamos construir o modelo usando essas 3 notas como atributos do modelo, para isso, nossos dados terão que ter apenas as 3 colunas:"
      ],
      "metadata": {
        "id": "4qxtd1_S7vIf"
      }
    },
    {
      "cell_type": "code",
      "source": [
        "regr = LinearRegression()\n",
        "Xtrain = x_train[['IC','P1', 'Cálculo1']]\n",
        "Xtrain"
      ],
      "metadata": {
        "colab": {
          "base_uri": "https://localhost:8080/",
          "height": 424
        },
        "id": "MT2_LWIT8rhX",
        "outputId": "c59e8732-b9ae-423a-aed1-438488eebb7d"
      },
      "execution_count": null,
      "outputs": [
        {
          "output_type": "execute_result",
          "data": {
            "text/plain": [
              "     IC   P1  Cálculo1\n",
              "68  8.6  7.0       7.0\n",
              "85  7.4  7.8       5.0\n",
              "65  8.6  7.3       7.5\n",
              "53  8.9  8.2       7.2\n",
              "80  8.1  7.8       7.2\n",
              "..  ...  ...       ...\n",
              "20  8.0  5.6       7.0\n",
              "60  7.9  8.3       7.2\n",
              "71  6.7  5.4       8.2\n",
              "14  7.3  6.5       7.4\n",
              "51  7.7  7.9       7.2\n",
              "\n",
              "[79 rows x 3 columns]"
            ],
            "text/html": [
              "\n",
              "  <div id=\"df-e23fa5fa-d40b-4db8-b285-7a8424ee5272\">\n",
              "    <div class=\"colab-df-container\">\n",
              "      <div>\n",
              "<style scoped>\n",
              "    .dataframe tbody tr th:only-of-type {\n",
              "        vertical-align: middle;\n",
              "    }\n",
              "\n",
              "    .dataframe tbody tr th {\n",
              "        vertical-align: top;\n",
              "    }\n",
              "\n",
              "    .dataframe thead th {\n",
              "        text-align: right;\n",
              "    }\n",
              "</style>\n",
              "<table border=\"1\" class=\"dataframe\">\n",
              "  <thead>\n",
              "    <tr style=\"text-align: right;\">\n",
              "      <th></th>\n",
              "      <th>IC</th>\n",
              "      <th>P1</th>\n",
              "      <th>Cálculo1</th>\n",
              "    </tr>\n",
              "  </thead>\n",
              "  <tbody>\n",
              "    <tr>\n",
              "      <th>68</th>\n",
              "      <td>8.6</td>\n",
              "      <td>7.0</td>\n",
              "      <td>7.0</td>\n",
              "    </tr>\n",
              "    <tr>\n",
              "      <th>85</th>\n",
              "      <td>7.4</td>\n",
              "      <td>7.8</td>\n",
              "      <td>5.0</td>\n",
              "    </tr>\n",
              "    <tr>\n",
              "      <th>65</th>\n",
              "      <td>8.6</td>\n",
              "      <td>7.3</td>\n",
              "      <td>7.5</td>\n",
              "    </tr>\n",
              "    <tr>\n",
              "      <th>53</th>\n",
              "      <td>8.9</td>\n",
              "      <td>8.2</td>\n",
              "      <td>7.2</td>\n",
              "    </tr>\n",
              "    <tr>\n",
              "      <th>80</th>\n",
              "      <td>8.1</td>\n",
              "      <td>7.8</td>\n",
              "      <td>7.2</td>\n",
              "    </tr>\n",
              "    <tr>\n",
              "      <th>...</th>\n",
              "      <td>...</td>\n",
              "      <td>...</td>\n",
              "      <td>...</td>\n",
              "    </tr>\n",
              "    <tr>\n",
              "      <th>20</th>\n",
              "      <td>8.0</td>\n",
              "      <td>5.6</td>\n",
              "      <td>7.0</td>\n",
              "    </tr>\n",
              "    <tr>\n",
              "      <th>60</th>\n",
              "      <td>7.9</td>\n",
              "      <td>8.3</td>\n",
              "      <td>7.2</td>\n",
              "    </tr>\n",
              "    <tr>\n",
              "      <th>71</th>\n",
              "      <td>6.7</td>\n",
              "      <td>5.4</td>\n",
              "      <td>8.2</td>\n",
              "    </tr>\n",
              "    <tr>\n",
              "      <th>14</th>\n",
              "      <td>7.3</td>\n",
              "      <td>6.5</td>\n",
              "      <td>7.4</td>\n",
              "    </tr>\n",
              "    <tr>\n",
              "      <th>51</th>\n",
              "      <td>7.7</td>\n",
              "      <td>7.9</td>\n",
              "      <td>7.2</td>\n",
              "    </tr>\n",
              "  </tbody>\n",
              "</table>\n",
              "<p>79 rows × 3 columns</p>\n",
              "</div>\n",
              "      <button class=\"colab-df-convert\" onclick=\"convertToInteractive('df-e23fa5fa-d40b-4db8-b285-7a8424ee5272')\"\n",
              "              title=\"Convert this dataframe to an interactive table.\"\n",
              "              style=\"display:none;\">\n",
              "        \n",
              "  <svg xmlns=\"http://www.w3.org/2000/svg\" height=\"24px\"viewBox=\"0 0 24 24\"\n",
              "       width=\"24px\">\n",
              "    <path d=\"M0 0h24v24H0V0z\" fill=\"none\"/>\n",
              "    <path d=\"M18.56 5.44l.94 2.06.94-2.06 2.06-.94-2.06-.94-.94-2.06-.94 2.06-2.06.94zm-11 1L8.5 8.5l.94-2.06 2.06-.94-2.06-.94L8.5 2.5l-.94 2.06-2.06.94zm10 10l.94 2.06.94-2.06 2.06-.94-2.06-.94-.94-2.06-.94 2.06-2.06.94z\"/><path d=\"M17.41 7.96l-1.37-1.37c-.4-.4-.92-.59-1.43-.59-.52 0-1.04.2-1.43.59L10.3 9.45l-7.72 7.72c-.78.78-.78 2.05 0 2.83L4 21.41c.39.39.9.59 1.41.59.51 0 1.02-.2 1.41-.59l7.78-7.78 2.81-2.81c.8-.78.8-2.07 0-2.86zM5.41 20L4 18.59l7.72-7.72 1.47 1.35L5.41 20z\"/>\n",
              "  </svg>\n",
              "      </button>\n",
              "      \n",
              "  <style>\n",
              "    .colab-df-container {\n",
              "      display:flex;\n",
              "      flex-wrap:wrap;\n",
              "      gap: 12px;\n",
              "    }\n",
              "\n",
              "    .colab-df-convert {\n",
              "      background-color: #E8F0FE;\n",
              "      border: none;\n",
              "      border-radius: 50%;\n",
              "      cursor: pointer;\n",
              "      display: none;\n",
              "      fill: #1967D2;\n",
              "      height: 32px;\n",
              "      padding: 0 0 0 0;\n",
              "      width: 32px;\n",
              "    }\n",
              "\n",
              "    .colab-df-convert:hover {\n",
              "      background-color: #E2EBFA;\n",
              "      box-shadow: 0px 1px 2px rgba(60, 64, 67, 0.3), 0px 1px 3px 1px rgba(60, 64, 67, 0.15);\n",
              "      fill: #174EA6;\n",
              "    }\n",
              "\n",
              "    [theme=dark] .colab-df-convert {\n",
              "      background-color: #3B4455;\n",
              "      fill: #D2E3FC;\n",
              "    }\n",
              "\n",
              "    [theme=dark] .colab-df-convert:hover {\n",
              "      background-color: #434B5C;\n",
              "      box-shadow: 0px 1px 3px 1px rgba(0, 0, 0, 0.15);\n",
              "      filter: drop-shadow(0px 1px 2px rgba(0, 0, 0, 0.3));\n",
              "      fill: #FFFFFF;\n",
              "    }\n",
              "  </style>\n",
              "\n",
              "      <script>\n",
              "        const buttonEl =\n",
              "          document.querySelector('#df-e23fa5fa-d40b-4db8-b285-7a8424ee5272 button.colab-df-convert');\n",
              "        buttonEl.style.display =\n",
              "          google.colab.kernel.accessAllowed ? 'block' : 'none';\n",
              "\n",
              "        async function convertToInteractive(key) {\n",
              "          const element = document.querySelector('#df-e23fa5fa-d40b-4db8-b285-7a8424ee5272');\n",
              "          const dataTable =\n",
              "            await google.colab.kernel.invokeFunction('convertToInteractive',\n",
              "                                                     [key], {});\n",
              "          if (!dataTable) return;\n",
              "\n",
              "          const docLinkHtml = 'Like what you see? Visit the ' +\n",
              "            '<a target=\"_blank\" href=https://colab.research.google.com/notebooks/data_table.ipynb>data table notebook</a>'\n",
              "            + ' to learn more about interactive tables.';\n",
              "          element.innerHTML = '';\n",
              "          dataTable['output_type'] = 'display_data';\n",
              "          await google.colab.output.renderOutput(dataTable, element);\n",
              "          const docLink = document.createElement('div');\n",
              "          docLink.innerHTML = docLinkHtml;\n",
              "          element.appendChild(docLink);\n",
              "        }\n",
              "      </script>\n",
              "    </div>\n",
              "  </div>\n",
              "  "
            ]
          },
          "metadata": {},
          "execution_count": 247
        }
      ]
    },
    {
      "cell_type": "markdown",
      "source": [
        "Treinando o modelo:"
      ],
      "metadata": {
        "id": "_PISCEao_LTS"
      }
    },
    {
      "cell_type": "code",
      "source": [
        "regr.fit(Xtrain,y_train)\n",
        "regr.coef_"
      ],
      "metadata": {
        "colab": {
          "base_uri": "https://localhost:8080/"
        },
        "id": "fx33kMxy_OOf",
        "outputId": "739919c5-c896-4076-b0d0-66a87cfa58d1"
      },
      "execution_count": null,
      "outputs": [
        {
          "output_type": "execute_result",
          "data": {
            "text/plain": [
              "array([0.37776043, 0.19416447, 0.10787268])"
            ]
          },
          "metadata": {},
          "execution_count": 248
        }
      ]
    },
    {
      "cell_type": "markdown",
      "source": [
        "Calculo do rmse dos dados de treino"
      ],
      "metadata": {
        "id": "qnQDuEPkc4bL"
      }
    },
    {
      "cell_type": "markdown",
      "source": [
        "Fazendo as previsôes:"
      ],
      "metadata": {
        "id": "idxCzxpKALN4"
      }
    },
    {
      "cell_type": "code",
      "source": [
        "Xtest = x_test[['IC', 'P1', 'Cálculo1']]\n",
        "Xtest"
      ],
      "metadata": {
        "colab": {
          "base_uri": "https://localhost:8080/",
          "height": 332
        },
        "id": "9YbAWX26zhxz",
        "outputId": "2df94a37-7836-457a-d6bf-99aaa47ddd2c"
      },
      "execution_count": null,
      "outputs": [
        {
          "output_type": "execute_result",
          "data": {
            "text/plain": [
              "     IC   P1  Cálculo1\n",
              "76  9.8  9.1       7.8\n",
              "0   9.1  9.0       8.7\n",
              "26  8.3  6.2       8.8\n",
              "22  8.4  7.7       7.2\n",
              "12  8.1  6.7       5.6\n",
              "67  7.0  8.3       7.3\n",
              "10  7.5  8.4       6.6\n",
              "18  7.4  8.2       5.8\n",
              "4   8.5  5.0       5.2"
            ],
            "text/html": [
              "\n",
              "  <div id=\"df-2ef48e68-6168-4740-a5e8-811569aec234\">\n",
              "    <div class=\"colab-df-container\">\n",
              "      <div>\n",
              "<style scoped>\n",
              "    .dataframe tbody tr th:only-of-type {\n",
              "        vertical-align: middle;\n",
              "    }\n",
              "\n",
              "    .dataframe tbody tr th {\n",
              "        vertical-align: top;\n",
              "    }\n",
              "\n",
              "    .dataframe thead th {\n",
              "        text-align: right;\n",
              "    }\n",
              "</style>\n",
              "<table border=\"1\" class=\"dataframe\">\n",
              "  <thead>\n",
              "    <tr style=\"text-align: right;\">\n",
              "      <th></th>\n",
              "      <th>IC</th>\n",
              "      <th>P1</th>\n",
              "      <th>Cálculo1</th>\n",
              "    </tr>\n",
              "  </thead>\n",
              "  <tbody>\n",
              "    <tr>\n",
              "      <th>76</th>\n",
              "      <td>9.8</td>\n",
              "      <td>9.1</td>\n",
              "      <td>7.8</td>\n",
              "    </tr>\n",
              "    <tr>\n",
              "      <th>0</th>\n",
              "      <td>9.1</td>\n",
              "      <td>9.0</td>\n",
              "      <td>8.7</td>\n",
              "    </tr>\n",
              "    <tr>\n",
              "      <th>26</th>\n",
              "      <td>8.3</td>\n",
              "      <td>6.2</td>\n",
              "      <td>8.8</td>\n",
              "    </tr>\n",
              "    <tr>\n",
              "      <th>22</th>\n",
              "      <td>8.4</td>\n",
              "      <td>7.7</td>\n",
              "      <td>7.2</td>\n",
              "    </tr>\n",
              "    <tr>\n",
              "      <th>12</th>\n",
              "      <td>8.1</td>\n",
              "      <td>6.7</td>\n",
              "      <td>5.6</td>\n",
              "    </tr>\n",
              "    <tr>\n",
              "      <th>67</th>\n",
              "      <td>7.0</td>\n",
              "      <td>8.3</td>\n",
              "      <td>7.3</td>\n",
              "    </tr>\n",
              "    <tr>\n",
              "      <th>10</th>\n",
              "      <td>7.5</td>\n",
              "      <td>8.4</td>\n",
              "      <td>6.6</td>\n",
              "    </tr>\n",
              "    <tr>\n",
              "      <th>18</th>\n",
              "      <td>7.4</td>\n",
              "      <td>8.2</td>\n",
              "      <td>5.8</td>\n",
              "    </tr>\n",
              "    <tr>\n",
              "      <th>4</th>\n",
              "      <td>8.5</td>\n",
              "      <td>5.0</td>\n",
              "      <td>5.2</td>\n",
              "    </tr>\n",
              "  </tbody>\n",
              "</table>\n",
              "</div>\n",
              "      <button class=\"colab-df-convert\" onclick=\"convertToInteractive('df-2ef48e68-6168-4740-a5e8-811569aec234')\"\n",
              "              title=\"Convert this dataframe to an interactive table.\"\n",
              "              style=\"display:none;\">\n",
              "        \n",
              "  <svg xmlns=\"http://www.w3.org/2000/svg\" height=\"24px\"viewBox=\"0 0 24 24\"\n",
              "       width=\"24px\">\n",
              "    <path d=\"M0 0h24v24H0V0z\" fill=\"none\"/>\n",
              "    <path d=\"M18.56 5.44l.94 2.06.94-2.06 2.06-.94-2.06-.94-.94-2.06-.94 2.06-2.06.94zm-11 1L8.5 8.5l.94-2.06 2.06-.94-2.06-.94L8.5 2.5l-.94 2.06-2.06.94zm10 10l.94 2.06.94-2.06 2.06-.94-2.06-.94-.94-2.06-.94 2.06-2.06.94z\"/><path d=\"M17.41 7.96l-1.37-1.37c-.4-.4-.92-.59-1.43-.59-.52 0-1.04.2-1.43.59L10.3 9.45l-7.72 7.72c-.78.78-.78 2.05 0 2.83L4 21.41c.39.39.9.59 1.41.59.51 0 1.02-.2 1.41-.59l7.78-7.78 2.81-2.81c.8-.78.8-2.07 0-2.86zM5.41 20L4 18.59l7.72-7.72 1.47 1.35L5.41 20z\"/>\n",
              "  </svg>\n",
              "      </button>\n",
              "      \n",
              "  <style>\n",
              "    .colab-df-container {\n",
              "      display:flex;\n",
              "      flex-wrap:wrap;\n",
              "      gap: 12px;\n",
              "    }\n",
              "\n",
              "    .colab-df-convert {\n",
              "      background-color: #E8F0FE;\n",
              "      border: none;\n",
              "      border-radius: 50%;\n",
              "      cursor: pointer;\n",
              "      display: none;\n",
              "      fill: #1967D2;\n",
              "      height: 32px;\n",
              "      padding: 0 0 0 0;\n",
              "      width: 32px;\n",
              "    }\n",
              "\n",
              "    .colab-df-convert:hover {\n",
              "      background-color: #E2EBFA;\n",
              "      box-shadow: 0px 1px 2px rgba(60, 64, 67, 0.3), 0px 1px 3px 1px rgba(60, 64, 67, 0.15);\n",
              "      fill: #174EA6;\n",
              "    }\n",
              "\n",
              "    [theme=dark] .colab-df-convert {\n",
              "      background-color: #3B4455;\n",
              "      fill: #D2E3FC;\n",
              "    }\n",
              "\n",
              "    [theme=dark] .colab-df-convert:hover {\n",
              "      background-color: #434B5C;\n",
              "      box-shadow: 0px 1px 3px 1px rgba(0, 0, 0, 0.15);\n",
              "      filter: drop-shadow(0px 1px 2px rgba(0, 0, 0, 0.3));\n",
              "      fill: #FFFFFF;\n",
              "    }\n",
              "  </style>\n",
              "\n",
              "      <script>\n",
              "        const buttonEl =\n",
              "          document.querySelector('#df-2ef48e68-6168-4740-a5e8-811569aec234 button.colab-df-convert');\n",
              "        buttonEl.style.display =\n",
              "          google.colab.kernel.accessAllowed ? 'block' : 'none';\n",
              "\n",
              "        async function convertToInteractive(key) {\n",
              "          const element = document.querySelector('#df-2ef48e68-6168-4740-a5e8-811569aec234');\n",
              "          const dataTable =\n",
              "            await google.colab.kernel.invokeFunction('convertToInteractive',\n",
              "                                                     [key], {});\n",
              "          if (!dataTable) return;\n",
              "\n",
              "          const docLinkHtml = 'Like what you see? Visit the ' +\n",
              "            '<a target=\"_blank\" href=https://colab.research.google.com/notebooks/data_table.ipynb>data table notebook</a>'\n",
              "            + ' to learn more about interactive tables.';\n",
              "          element.innerHTML = '';\n",
              "          dataTable['output_type'] = 'display_data';\n",
              "          await google.colab.output.renderOutput(dataTable, element);\n",
              "          const docLink = document.createElement('div');\n",
              "          docLink.innerHTML = docLinkHtml;\n",
              "          element.appendChild(docLink);\n",
              "        }\n",
              "      </script>\n",
              "    </div>\n",
              "  </div>\n",
              "  "
            ]
          },
          "metadata": {},
          "execution_count": 249
        }
      ]
    },
    {
      "cell_type": "markdown",
      "source": [
        "Previsão com os dados de treino:"
      ],
      "metadata": {
        "id": "IeepIhADBVkO"
      }
    },
    {
      "cell_type": "code",
      "source": [
        "y_pred = regr.predict(Xtrain)\n",
        "y_pred"
      ],
      "metadata": {
        "colab": {
          "base_uri": "https://localhost:8080/"
        },
        "id": "-ebbHraFAOlV",
        "outputId": "29eee83f-c660-442b-809d-5025f76909fd"
      },
      "execution_count": null,
      "outputs": [
        {
          "output_type": "execute_result",
          "data": {
            "text/plain": [
              "array([7.40489117, 6.89116486, 7.51707685, 7.77279119, 7.39291706,\n",
              "       6.97333075, 7.30217911, 6.47994774, 7.45027757, 8.06100051,\n",
              "       7.00330933, 8.38025163, 7.39608761, 7.40259673, 7.52561725,\n",
              "       7.74373311, 7.6366573 , 7.97998344, 7.89906468, 7.41445039,\n",
              "       6.68723831, 7.27971256, 7.72427227, 8.40715481, 6.56963521,\n",
              "       5.89736238, 7.29147744, 7.05534756, 7.91518377, 6.69705114,\n",
              "       8.81829269, 7.11892872, 7.78797388, 7.62165217, 7.09726858,\n",
              "       7.30125225, 7.97998662, 6.20913313, 6.70898086, 7.27967135,\n",
              "       7.5817941 , 8.228135  , 7.59664075, 7.33686702, 7.27214341,\n",
              "       6.85444566, 6.62793212, 6.91697952, 7.77168995, 8.49679788,\n",
              "       7.60649797, 6.58494788, 7.73400587, 6.87070747, 7.50201779,\n",
              "       7.68958436, 7.73171461, 6.48452072, 7.80828234, 7.41110228,\n",
              "       6.44234926, 6.80927485, 7.51606121, 6.62805574, 7.42633572,\n",
              "       7.57752231, 6.9363896 , 7.12738352, 7.87732213, 8.12999591,\n",
              "       6.82776444, 6.91376776, 8.29294421, 7.17620363, 6.90640466,\n",
              "       7.41444721, 6.50593042, 6.85986945, 7.26122933])"
            ]
          },
          "metadata": {},
          "execution_count": 250
        }
      ]
    },
    {
      "cell_type": "markdown",
      "source": [],
      "metadata": {
        "id": "kToySLEGKdtx"
      }
    },
    {
      "cell_type": "markdown",
      "source": [
        "Calculando o R²"
      ],
      "metadata": {
        "id": "N_-fJljHI3DV"
      }
    },
    {
      "cell_type": "code",
      "source": [
        "r2 = r2_score(y_train,y_pred)\n",
        "r2"
      ],
      "metadata": {
        "colab": {
          "base_uri": "https://localhost:8080/"
        },
        "id": "EW5sgTQrI543",
        "outputId": "e7ec0592-b636-46f1-ac7a-911a7c63ddee"
      },
      "execution_count": null,
      "outputs": [
        {
          "output_type": "execute_result",
          "data": {
            "text/plain": [
              "0.41617833136188165"
            ]
          },
          "metadata": {},
          "execution_count": 251
        }
      ]
    },
    {
      "cell_type": "markdown",
      "source": [
        "Apesar de adicionarmos mais atributos (e por conseguinte, parâmetros) vemos que valor de R² diminiu indicando que as novas previsoes  se adequam um pouco menos ao dados do que a regressão apenas com IC. Isso pode indicar que talvez o modelo ficou muito complexo (não sabemos ainda).\n",
        "\n",
        "Vamos calcular o rmse:\n",
        "\n",
        "\n",
        "\n",
        "\n",
        "\n"
      ],
      "metadata": {
        "id": "TVgEf7MXLAKg"
      }
    },
    {
      "cell_type": "code",
      "source": [
        "rmse_train = mean_squared_error(y_train, y_pred,squared= False)\n",
        "rmse_train"
      ],
      "metadata": {
        "colab": {
          "base_uri": "https://localhost:8080/"
        },
        "id": "EfK5o7HRL6x8",
        "outputId": "ee7e4b0f-6c34-444d-e8fb-36b5dacff1d5"
      },
      "execution_count": null,
      "outputs": [
        {
          "output_type": "execute_result",
          "data": {
            "text/plain": [
              "0.6647791334136282"
            ]
          },
          "metadata": {},
          "execution_count": 252
        }
      ]
    },
    {
      "cell_type": "markdown",
      "source": [
        "Como o valor foi menor que rmse do treino do medelo simples, aparentemente estamos tendo um ajuste melhor aos dados de treino. Como o R² diminiu, pode ser indicativo de modelo com overfitting Vamos para  os dados de teste:"
      ],
      "metadata": {
        "id": "q-PzDgzzBqBa"
      }
    },
    {
      "cell_type": "code",
      "source": [
        "y_pred = regr.predict(Xtest)\n",
        "y_pred"
      ],
      "metadata": {
        "colab": {
          "base_uri": "https://localhost:8080/"
        },
        "id": "U2svvrRDWCVL",
        "outputId": "4e19e528-43b5-419b-96e1-85db4ae62148"
      },
      "execution_count": null,
      "outputs": [
        {
          "output_type": "execute_result",
          "data": {
            "text/plain": [
              "array([8.35224721, 8.16548388, 7.33040229, 7.48682874, 7.00673986,\n",
              "       7.08525009, 7.21803587, 7.05512879, 6.78461536])"
            ]
          },
          "metadata": {},
          "execution_count": 253
        }
      ]
    },
    {
      "cell_type": "markdown",
      "source": [
        "Agora o rmse dos dados de teste:"
      ],
      "metadata": {
        "id": "rHT7WvsVdNYc"
      }
    },
    {
      "cell_type": "code",
      "source": [
        "rmse_test = mean_squared_error(y_test, y_pred,squared= False)\n",
        "rmse_test"
      ],
      "metadata": {
        "colab": {
          "base_uri": "https://localhost:8080/"
        },
        "id": "Oe2BxT_jXG_g",
        "outputId": "c44ff639-7089-41ab-a662-6121282448d7"
      },
      "execution_count": null,
      "outputs": [
        {
          "output_type": "execute_result",
          "data": {
            "text/plain": [
              "0.41613710389508285"
            ]
          },
          "metadata": {},
          "execution_count": 254
        }
      ]
    },
    {
      "cell_type": "markdown",
      "source": [
        "R² dos dados de teste:"
      ],
      "metadata": {
        "id": "O1_rB6_5dXTK"
      }
    },
    {
      "cell_type": "code",
      "source": [
        "r2 = r2_score(y_test,y_pred)\n",
        "r2"
      ],
      "metadata": {
        "colab": {
          "base_uri": "https://localhost:8080/"
        },
        "id": "lkrZACdXdbYH",
        "outputId": "eb12e343-4bc7-4bc9-d0bb-4b4838bf340c"
      },
      "execution_count": null,
      "outputs": [
        {
          "output_type": "execute_result",
          "data": {
            "text/plain": [
              "0.47797293155315035"
            ]
          },
          "metadata": {},
          "execution_count": 255
        }
      ]
    },
    {
      "cell_type": "markdown",
      "source": [
        "Resumindo:"
      ],
      "metadata": {
        "id": "DFjMestcdkD8"
      }
    },
    {
      "cell_type": "code",
      "source": [
        "print(\"r2 = {r2:.3f}\".format(r2 = r2))\n",
        "print(\"rmse_train: {rmse_train:.3f}\".format(rmse_train = rmse_train))\n",
        "print(\"rmse_test: {rmse_test:.3f}\".format(rmse_test = rmse_test))"
      ],
      "metadata": {
        "colab": {
          "base_uri": "https://localhost:8080/"
        },
        "id": "ql8lfx2QeIk2",
        "outputId": "efabccbf-2719-472f-8b63-8bbe1098be82"
      },
      "execution_count": null,
      "outputs": [
        {
          "output_type": "stream",
          "name": "stdout",
          "text": [
            "r2 = 0.478\n",
            "rmse_train: 0.665\n",
            "rmse_test: 0.416\n"
          ]
        }
      ]
    },
    {
      "cell_type": "markdown",
      "source": [
        "Não houve  mudança no nivel de explicabilidade ( medido pelo R²) em relação ao modelo 1, mas tivemos uma queda no erro dos dados de treino ( e um leve aumento no dados de teste, o que pode ser devivo ao aumento dos atributos). Com isso temos um indicativo que pode haver algum vies, apesar da diferença sertão pouca que não seja suficiente para tal. Nesse sentido, o modelo 2 traz mais complexidade, sem perder explicabilidade."
      ],
      "metadata": {
        "id": "3EQqIqpk6WBV"
      }
    },
    {
      "cell_type": "markdown",
      "source": [
        "#5. Mesma coisa que os itens 3 e 4 acima mas agora com todas as variáveis."
      ],
      "metadata": {
        "id": "faxhvnyPfPfU"
      }
    },
    {
      "cell_type": "markdown",
      "source": [
        "Construindo o modelo:"
      ],
      "metadata": {
        "id": "hH9sDXTEfgSX"
      }
    },
    {
      "cell_type": "code",
      "source": [
        "regr.fit(x_train,y_train)\n",
        "regr.coef_"
      ],
      "metadata": {
        "colab": {
          "base_uri": "https://localhost:8080/"
        },
        "id": "ZlYEOxkSfYLX",
        "outputId": "46a5b02e-3d5f-498d-91af-12dad5352460"
      },
      "execution_count": null,
      "outputs": [
        {
          "output_type": "execute_result",
          "data": {
            "text/plain": [
              "array([0.09908614, 0.00958682, 0.18821118, 0.36775991, 0.04290348])"
            ]
          },
          "metadata": {},
          "execution_count": 257
        }
      ]
    },
    {
      "cell_type": "markdown",
      "source": [
        "Fazendo as predições:"
      ],
      "metadata": {
        "id": "fCKwy2l5f6WX"
      }
    },
    {
      "cell_type": "code",
      "source": [
        "y_pred = regr.predict(x_train)\n",
        "y_pred"
      ],
      "metadata": {
        "colab": {
          "base_uri": "https://localhost:8080/"
        },
        "id": "DZfXckEzf8f7",
        "outputId": "6c563d70-c73a-4cda-ba0e-390b1c5fa234"
      },
      "execution_count": null,
      "outputs": [
        {
          "output_type": "execute_result",
          "data": {
            "text/plain": [
              "array([7.35712924, 6.86054456, 7.54086499, 7.71938302, 7.51812543,\n",
              "       7.05519178, 7.27084284, 6.56179326, 7.42868825, 8.04504442,\n",
              "       7.10681683, 8.38860503, 7.358194  , 7.36477954, 7.64760273,\n",
              "       7.79383147, 7.6636153 , 7.94500237, 7.89926629, 7.35597678,\n",
              "       6.64915597, 7.2740925 , 7.69820718, 8.39667819, 6.53716902,\n",
              "       5.88292773, 7.23910306, 7.04117495, 7.84535637, 6.64886981,\n",
              "       8.84752426, 7.07298342, 7.77366904, 7.54965054, 7.14026382,\n",
              "       7.37036739, 8.02542565, 6.27644391, 6.68035626, 7.30134756,\n",
              "       7.60784727, 8.25751545, 7.65894901, 7.29624207, 7.22578926,\n",
              "       6.8098464 , 6.5942468 , 6.86607931, 7.71067246, 8.52388747,\n",
              "       7.58649974, 6.58456341, 7.67657939, 6.83297007, 7.47916403,\n",
              "       7.71753391, 7.80125385, 6.56461201, 7.82953559, 7.44213053,\n",
              "       6.52600136, 6.76636897, 7.46837847, 6.74224308, 7.36035037,\n",
              "       7.53410012, 6.92948752, 7.07799602, 7.90425871, 8.21594516,\n",
              "       6.92963038, 6.93792945, 8.34132367, 7.129247  , 6.88105527,\n",
              "       7.34844197, 6.4503139 , 6.82406715, 7.24584067])"
            ]
          },
          "metadata": {},
          "execution_count": 258
        }
      ]
    },
    {
      "cell_type": "markdown",
      "source": [
        "Calculo do rmse dos dados de treino:"
      ],
      "metadata": {
        "id": "MXfW75pkf5oF"
      }
    },
    {
      "cell_type": "code",
      "source": [
        "rmse_train = mean_squared_error(y_train,y_pred,squared= False)\n",
        "rmse_train"
      ],
      "metadata": {
        "colab": {
          "base_uri": "https://localhost:8080/"
        },
        "id": "ZUHEfxGkgMAh",
        "outputId": "70bec325-4221-44e8-fe75-038810a24e74"
      },
      "execution_count": null,
      "outputs": [
        {
          "output_type": "execute_result",
          "data": {
            "text/plain": [
              "0.6627294390302053"
            ]
          },
          "metadata": {},
          "execution_count": 259
        }
      ]
    },
    {
      "cell_type": "markdown",
      "source": [
        "Calculo R² do treino:"
      ],
      "metadata": {
        "id": "WCI2szpMgbni"
      }
    },
    {
      "cell_type": "code",
      "source": [
        "r2 = r2_score(y_train,y_pred)\n",
        "r2"
      ],
      "metadata": {
        "colab": {
          "base_uri": "https://localhost:8080/"
        },
        "id": "BNbr_-DlgeAZ",
        "outputId": "ea6d5fe5-0a54-410d-b08f-220a39905800"
      },
      "execution_count": null,
      "outputs": [
        {
          "output_type": "execute_result",
          "data": {
            "text/plain": [
              "0.4197729423463915"
            ]
          },
          "metadata": {},
          "execution_count": 260
        }
      ]
    },
    {
      "cell_type": "markdown",
      "source": [
        "Dados bem parecidos com o modelo 2. Vamos para os dados de teste:"
      ],
      "metadata": {
        "id": "s9Dad3-phxHv"
      }
    },
    {
      "cell_type": "code",
      "source": [
        "y_pred = regr.predict(x_test)\n",
        "y_pred"
      ],
      "metadata": {
        "colab": {
          "base_uri": "https://localhost:8080/"
        },
        "id": "uCCmXxAch-Rw",
        "outputId": "bc91cf52-0edc-4b35-ef4b-814f207d7865"
      },
      "execution_count": null,
      "outputs": [
        {
          "output_type": "execute_result",
          "data": {
            "text/plain": [
              "array([8.38208215, 8.23805244, 7.25500554, 7.42706468, 6.95848351,\n",
              "       7.10646286, 7.3042063 , 7.12345767, 6.76516766])"
            ]
          },
          "metadata": {},
          "execution_count": 261
        }
      ]
    },
    {
      "cell_type": "code",
      "source": [
        "rmse_test = mean_squared_error(y_test,y_pred,squared= False)\n",
        "rmse_test"
      ],
      "metadata": {
        "colab": {
          "base_uri": "https://localhost:8080/"
        },
        "id": "1f0VqLUCiM_r",
        "outputId": "74759bd4-5eb3-46ca-db90-54d49e3afb0b"
      },
      "execution_count": null,
      "outputs": [
        {
          "output_type": "execute_result",
          "data": {
            "text/plain": [
              "0.441085169323684"
            ]
          },
          "metadata": {},
          "execution_count": 262
        }
      ]
    },
    {
      "cell_type": "code",
      "source": [
        "r2 = r2_score(y_test,y_pred)\n",
        "r2"
      ],
      "metadata": {
        "colab": {
          "base_uri": "https://localhost:8080/"
        },
        "id": "dEJw9nSfiX09",
        "outputId": "30722960-3082-420d-bc2d-46983af0450e"
      },
      "execution_count": null,
      "outputs": [
        {
          "output_type": "execute_result",
          "data": {
            "text/plain": [
              "0.4135040013967509"
            ]
          },
          "metadata": {},
          "execution_count": 263
        }
      ]
    },
    {
      "cell_type": "markdown",
      "source": [
        "Resumindo:"
      ],
      "metadata": {
        "id": "ojU1gcJ_ihw0"
      }
    },
    {
      "cell_type": "code",
      "source": [
        "print(\"r2 = {r2:.3f}\".format(r2 = r2))\n",
        "print(\"rmse_train: {rmse_train:.3f}\".format(rmse_train = rmse_train))\n",
        "print(\"rmse_test: {rmse_test:.3f}\".format(rmse_test = rmse_test))"
      ],
      "metadata": {
        "colab": {
          "base_uri": "https://localhost:8080/"
        },
        "id": "RAFkI1BpikGq",
        "outputId": "e51d1b64-ce8b-4691-deab-576db8107936"
      },
      "execution_count": null,
      "outputs": [
        {
          "output_type": "stream",
          "name": "stdout",
          "text": [
            "r2 = 0.414\n",
            "rmse_train: 0.663\n",
            "rmse_test: 0.441\n"
          ]
        }
      ]
    },
    {
      "cell_type": "markdown",
      "source": [
        "Nota-se que houve uma diminuição do valor R², siginificando que houve uma diminuição da explicação do modelo, isso é um sinla que adicionar mais variáveis não traz mais informação ao modelo, ou seja essse modelo é pior que o modelo 2."
      ],
      "metadata": {
        "id": "Q6HJOVltis6f"
      }
    },
    {
      "cell_type": "markdown",
      "source": [
        "# 6. Compare todos os modelos em termos de RMSE e R2 no treino e teste. Qual o melhor modelo? Por que você acha que é o caso?"
      ],
      "metadata": {
        "id": "qL_clUgSjth9"
      }
    },
    {
      "cell_type": "markdown",
      "source": [
        "Olhando os resumo feitos no fim de cada tópico, temos que o melhor modelo seria o modelo 2 (com 3 variáveis), pois ele possui uma boa explicabilidade ( comparavel a do modelo 1)   com um erro satisfatório quand comparado ao modelo 1 ( apenas a variavel melhor correlacionada). O modelo 3 tem uma perda na explicabilidade medida pelo R², visto que houve um aumento de atribtos que não adicionavam informação extra ao modelo. Com isso em mente o modelo 2 seria o ideal, tendo a ressalva que o modelo 1 já explica bastane sobre o problema em questão."
      ],
      "metadata": {
        "id": "UapDWWiFjxz2"
      }
    },
    {
      "cell_type": "markdown",
      "source": [
        "#7. Faça 10 partições aleatórias de treino e teste.\n",
        "#8. Para cada partição faça:\n",
        "\n",
        "- 1. Calcule a média dos erros de treino e teste para os modelos criados nos itens 3, 4 e 5 acima.\n",
        "- 2. Plote um gráfico de barras mostrando esses resultados para cada modelo.\n"
      ],
      "metadata": {
        "id": "dAJZxAjEkaDr"
      }
    },
    {
      "cell_type": "code",
      "source": [
        "erros_treino = np.ndarray(shape = (3,2),dtype = float)\n",
        "erros_treino.fill(0)\n",
        "\n",
        "regr1 = LinearRegression()\n",
        "regr2 = LinearRegression()\n",
        "regr3 = LinearRegression()\n",
        "\n",
        "\n",
        "for i in range(10) :\n",
        "  x_train, x_test, y_train, y_test = train_test_split(x, y, test_size=0.1, random_state=i)\n",
        "\n",
        "  #Definindo os dados de treino e teste\n",
        "  X_train_1 = np.array(x_train.IC).reshape(-1,1)\n",
        "  X_train_2 = x_train[['IC', 'P1', 'Cálculo1']]\n",
        "\n",
        "  X_test_1 = np.array(x_test.IC).reshape(-1,1)\n",
        "  X_test_2 = x_test[['IC', 'P1', 'Cálculo1']]\n",
        "\n",
        "\n",
        "  # Fazendo os modelos\n",
        "  modelo1 = regr1.fit(X_train_1, y_train)\n",
        "  modelo2 = regr2.fit(X_train_2, y_train)\n",
        "  modelo3 = regr3.fit(x_train, y_train)\n",
        "\n",
        "  # fazendo as previsões de treino\n",
        "  y_train_1 = modelo1.predict(X_train_1)\n",
        "  y_train_2 = modelo2.predict(X_train_2)\n",
        "  y_train_3 = modelo3.predict(x_train)\n",
        "\n",
        "  # Somando os erros\n",
        "\n",
        "  erros_treino[0,0] = erros_treino[0,0] + mean_squared_error(y_train_1, y_train, squared = False)\n",
        "  erros_treino[1,0] = erros_treino[1,0] + mean_squared_error(y_train_2, y_train, squared = False)\n",
        "  erros_treino[2,0] = erros_treino[2,0] + mean_squared_error(y_train_3, y_train, squared = False)\n",
        "\n",
        "  # fazendo as previsões de teste\n",
        "  y_test_1 = modelo1.predict(X_test_1)\n",
        "  y_test_2 = modelo2.predict(X_test_2)\n",
        "  y_test_3 = modelo3.predict(x_test)\n",
        "\n",
        "  # Somando os erros\n",
        "  erros_treino[0,1] = erros_treino[0,0] + mean_squared_error(y_test_1, y_test, squared = False)\n",
        "  erros_treino[1,1] = erros_treino[1,0] + mean_squared_error(y_test_2, y_test, squared = False)\n",
        "  erros_treino[2,1] = erros_treino[2,0] + mean_squared_error(y_test_3, y_test, squared = False)\n",
        "\n",
        "\n",
        "\n",
        "erros_treino = (1/10) * erros_treino\n",
        "\n",
        "\n",
        "erros_treino\n",
        "\n",
        "\n",
        "\n",
        "\n",
        "\n",
        "\n",
        "\n"
      ],
      "metadata": {
        "id": "lkAnr4NykfQp",
        "colab": {
          "base_uri": "https://localhost:8080/"
        },
        "outputId": "7af20201-075a-4202-bf11-ce509f508838"
      },
      "execution_count": null,
      "outputs": [
        {
          "output_type": "execute_result",
          "data": {
            "text/plain": [
              "array([[0.69809807, 0.74221188],\n",
              "       [0.64272398, 0.67244784],\n",
              "       [0.63933272, 0.66822602]])"
            ]
          },
          "metadata": {},
          "execution_count": 265
        }
      ]
    },
    {
      "cell_type": "markdown",
      "source": [
        "Vamos ao plot do gráfico de barras:"
      ],
      "metadata": {
        "id": "4CoVYPUt3af8"
      }
    },
    {
      "cell_type": "code",
      "source": [
        "dados_erro = pd.DataFrame(erros_treino, columns=['erro de treino', 'erro de teste'])\n",
        "dados_erro\n"
      ],
      "metadata": {
        "colab": {
          "base_uri": "https://localhost:8080/",
          "height": 143
        },
        "id": "3__tqPa14HhH",
        "outputId": "f0f647a5-d3a4-4b86-ce42-d2fc53b7b3a8"
      },
      "execution_count": null,
      "outputs": [
        {
          "output_type": "execute_result",
          "data": {
            "text/plain": [
              "   erro de treino  erro de teste\n",
              "0        0.698098       0.742212\n",
              "1        0.642724       0.672448\n",
              "2        0.639333       0.668226"
            ],
            "text/html": [
              "\n",
              "  <div id=\"df-877c4316-006b-4cf4-a411-c6ce5d604007\">\n",
              "    <div class=\"colab-df-container\">\n",
              "      <div>\n",
              "<style scoped>\n",
              "    .dataframe tbody tr th:only-of-type {\n",
              "        vertical-align: middle;\n",
              "    }\n",
              "\n",
              "    .dataframe tbody tr th {\n",
              "        vertical-align: top;\n",
              "    }\n",
              "\n",
              "    .dataframe thead th {\n",
              "        text-align: right;\n",
              "    }\n",
              "</style>\n",
              "<table border=\"1\" class=\"dataframe\">\n",
              "  <thead>\n",
              "    <tr style=\"text-align: right;\">\n",
              "      <th></th>\n",
              "      <th>erro de treino</th>\n",
              "      <th>erro de teste</th>\n",
              "    </tr>\n",
              "  </thead>\n",
              "  <tbody>\n",
              "    <tr>\n",
              "      <th>0</th>\n",
              "      <td>0.698098</td>\n",
              "      <td>0.742212</td>\n",
              "    </tr>\n",
              "    <tr>\n",
              "      <th>1</th>\n",
              "      <td>0.642724</td>\n",
              "      <td>0.672448</td>\n",
              "    </tr>\n",
              "    <tr>\n",
              "      <th>2</th>\n",
              "      <td>0.639333</td>\n",
              "      <td>0.668226</td>\n",
              "    </tr>\n",
              "  </tbody>\n",
              "</table>\n",
              "</div>\n",
              "      <button class=\"colab-df-convert\" onclick=\"convertToInteractive('df-877c4316-006b-4cf4-a411-c6ce5d604007')\"\n",
              "              title=\"Convert this dataframe to an interactive table.\"\n",
              "              style=\"display:none;\">\n",
              "        \n",
              "  <svg xmlns=\"http://www.w3.org/2000/svg\" height=\"24px\"viewBox=\"0 0 24 24\"\n",
              "       width=\"24px\">\n",
              "    <path d=\"M0 0h24v24H0V0z\" fill=\"none\"/>\n",
              "    <path d=\"M18.56 5.44l.94 2.06.94-2.06 2.06-.94-2.06-.94-.94-2.06-.94 2.06-2.06.94zm-11 1L8.5 8.5l.94-2.06 2.06-.94-2.06-.94L8.5 2.5l-.94 2.06-2.06.94zm10 10l.94 2.06.94-2.06 2.06-.94-2.06-.94-.94-2.06-.94 2.06-2.06.94z\"/><path d=\"M17.41 7.96l-1.37-1.37c-.4-.4-.92-.59-1.43-.59-.52 0-1.04.2-1.43.59L10.3 9.45l-7.72 7.72c-.78.78-.78 2.05 0 2.83L4 21.41c.39.39.9.59 1.41.59.51 0 1.02-.2 1.41-.59l7.78-7.78 2.81-2.81c.8-.78.8-2.07 0-2.86zM5.41 20L4 18.59l7.72-7.72 1.47 1.35L5.41 20z\"/>\n",
              "  </svg>\n",
              "      </button>\n",
              "      \n",
              "  <style>\n",
              "    .colab-df-container {\n",
              "      display:flex;\n",
              "      flex-wrap:wrap;\n",
              "      gap: 12px;\n",
              "    }\n",
              "\n",
              "    .colab-df-convert {\n",
              "      background-color: #E8F0FE;\n",
              "      border: none;\n",
              "      border-radius: 50%;\n",
              "      cursor: pointer;\n",
              "      display: none;\n",
              "      fill: #1967D2;\n",
              "      height: 32px;\n",
              "      padding: 0 0 0 0;\n",
              "      width: 32px;\n",
              "    }\n",
              "\n",
              "    .colab-df-convert:hover {\n",
              "      background-color: #E2EBFA;\n",
              "      box-shadow: 0px 1px 2px rgba(60, 64, 67, 0.3), 0px 1px 3px 1px rgba(60, 64, 67, 0.15);\n",
              "      fill: #174EA6;\n",
              "    }\n",
              "\n",
              "    [theme=dark] .colab-df-convert {\n",
              "      background-color: #3B4455;\n",
              "      fill: #D2E3FC;\n",
              "    }\n",
              "\n",
              "    [theme=dark] .colab-df-convert:hover {\n",
              "      background-color: #434B5C;\n",
              "      box-shadow: 0px 1px 3px 1px rgba(0, 0, 0, 0.15);\n",
              "      filter: drop-shadow(0px 1px 2px rgba(0, 0, 0, 0.3));\n",
              "      fill: #FFFFFF;\n",
              "    }\n",
              "  </style>\n",
              "\n",
              "      <script>\n",
              "        const buttonEl =\n",
              "          document.querySelector('#df-877c4316-006b-4cf4-a411-c6ce5d604007 button.colab-df-convert');\n",
              "        buttonEl.style.display =\n",
              "          google.colab.kernel.accessAllowed ? 'block' : 'none';\n",
              "\n",
              "        async function convertToInteractive(key) {\n",
              "          const element = document.querySelector('#df-877c4316-006b-4cf4-a411-c6ce5d604007');\n",
              "          const dataTable =\n",
              "            await google.colab.kernel.invokeFunction('convertToInteractive',\n",
              "                                                     [key], {});\n",
              "          if (!dataTable) return;\n",
              "\n",
              "          const docLinkHtml = 'Like what you see? Visit the ' +\n",
              "            '<a target=\"_blank\" href=https://colab.research.google.com/notebooks/data_table.ipynb>data table notebook</a>'\n",
              "            + ' to learn more about interactive tables.';\n",
              "          element.innerHTML = '';\n",
              "          dataTable['output_type'] = 'display_data';\n",
              "          await google.colab.output.renderOutput(dataTable, element);\n",
              "          const docLink = document.createElement('div');\n",
              "          docLink.innerHTML = docLinkHtml;\n",
              "          element.appendChild(docLink);\n",
              "        }\n",
              "      </script>\n",
              "    </div>\n",
              "  </div>\n",
              "  "
            ]
          },
          "metadata": {},
          "execution_count": 266
        }
      ]
    },
    {
      "cell_type": "markdown",
      "source": [
        "Lembrando que:\n",
        "- \"0\" representa o modelo 1 ( apenas a maior correleção) ;\n",
        "- \"1\" as três variaveis mais correlacionadas ( modelo 2)\n",
        "- \"2\" o modelo com todas as variaveis (modelo 3)"
      ],
      "metadata": {
        "id": "wrAQs6pn8aDk"
      }
    },
    {
      "cell_type": "code",
      "source": [
        "dados_erro.plot.bar()"
      ],
      "metadata": {
        "colab": {
          "base_uri": "https://localhost:8080/",
          "height": 442
        },
        "id": "9sUbgeW4659N",
        "outputId": "15def73f-5e90-4c10-c033-5165507c6f1f"
      },
      "execution_count": null,
      "outputs": [
        {
          "output_type": "execute_result",
          "data": {
            "text/plain": [
              "<Axes: >"
            ]
          },
          "metadata": {},
          "execution_count": 267
        },
        {
          "output_type": "display_data",
          "data": {
            "text/plain": [
              "<Figure size 640x480 with 1 Axes>"
            ],
            "image/png": "[encoded data removed]"
          },
          "metadata": {}
        }
      ]
    },
    {
      "cell_type": "markdown",
      "source": [
        "Podemos ver que com a média das partições aleatórias a diferença dos erros de treinos e teste diminuiu, agora os erros são bem próximos, isso é um sinal  que a discrepância que ocorria era devido a termos uma partição mais \"tendenciosa\" para os dados de treino. Ao calcularmos a média , vemos que essa distorção se atenua."
      ],
      "metadata": {
        "id": "4dPtpmag9QL4"
      }
    }
  ]
}